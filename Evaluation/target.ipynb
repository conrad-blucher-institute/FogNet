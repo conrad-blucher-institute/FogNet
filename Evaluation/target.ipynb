{
 "cells": [
  {
   "cell_type": "code",
   "execution_count": 2,
   "metadata": {},
   "outputs": [],
   "source": [
    "import pandas \n",
    "import numpy \n",
    "import os\n",
    "import os.path \n",
    "\n",
    "import matplotlib.pyplot as plt\n",
    "from mlxtend.plotting import plot_confusion_matrix\n",
    "from sklearn.metrics import roc_curve, auc\n",
    "from sklearn.metrics import confusion_matrix   \n",
    "from sklearn.metrics import classification_report\n",
    "\n",
    "from sklearn.metrics import brier_score_loss \n",
    "from sklearn.metrics import auc "
   ]
  },
  {
   "cell_type": "markdown",
   "metadata": {},
   "source": [
    "### HREF Reading \n",
    "\n",
    "Reading all years and put them in one csv file "
   ]
  },
  {
   "cell_type": "code",
   "execution_count": 2,
   "metadata": {},
   "outputs": [],
   "source": [
    "names = ['href-vis-2018.csv', 'href-vis-2019.csv', 'href-vis-2020.csv'] \n",
    "path = './HREF/'\n",
    "name = path + names[0]\n",
    "\n",
    "df_2018 = pandas.read_csv(path + names[0], header = 0)\n",
    "df_2019 = pandas.read_csv(path + names[1], header = 0)\n",
    "df_2020 = pandas.read_csv(path + names[2], header = 0)\n",
    "HREF = pandas.concat([df_2018, df_2019, df_2020]) \n",
    "HREF['1600'] = HREF['1600'].div(100)\n",
    "HREF['3200'] = HREF['3200'].div(100)\n",
    "HREF['6400'] = HREF['6400'].div(100)"
   ]
  },
  {
   "cell_type": "code",
   "execution_count": null,
   "metadata": {},
   "outputs": [],
   "source": [
    "HREF.to_csv('HREF.csv')"
   ]
  },
  {
   "cell_type": "markdown",
   "metadata": {},
   "source": [
    "### Extract the lead time form main HREF file: "
   ]
  },
  {
   "cell_type": "code",
   "execution_count": 14,
   "metadata": {},
   "outputs": [],
   "source": [
    "def href_target_selection(csv_file_name, lead_times):\n",
    "    HREF = pandas.DataFrame(columns = \n",
    "                            ['MCT', 'MPT','MC','FH', '1600', '3200', '6400']) \n",
    "    HREF_Prob = pandas.DataFrame(columns = \n",
    "                                 ['MCT', 'MPT','MC','FH', 'P0_1600','P1_1600', 'P0_3200', 'P1_3200', 'P0_6400', 'P1_6400'])\n",
    "    path = './HREF/'\n",
    "    name = path + csv_file_name  \n",
    "    H = pandas.read_csv(name, header = 0)\n",
    "    L = H.shape[0]\n",
    "\n",
    "    for i in range(L): \n",
    "        #MC = HREF.iloc[index, 2] \n",
    "        FH = H.iloc[i, 3]\n",
    "\n",
    "        if (FH == lead_times): \n",
    "            HREF = HREF.append(H.iloc[i, :])\n",
    "            \n",
    "\n",
    "    HREF_Prob ['MCT']     = HREF ['MCT']\n",
    "    HREF_Prob ['MPT']     = HREF ['MPT']\n",
    "    HREF_Prob ['MC']      = HREF ['MC']\n",
    "    HREF_Prob ['FH']      = HREF ['FH']\n",
    "    HREF_Prob ['P0_1600'] = HREF ['1600']\n",
    "    HREF_Prob ['P1_1600'] = 1 - HREF ['1600'] \n",
    "    HREF_Prob ['P0_3200'] = HREF ['3200']\n",
    "    HREF_Prob ['P1_3200'] = 1 - HREF ['3200'] \n",
    "    HREF_Prob ['P0_6400'] = HREF ['6400']\n",
    "    HREF_Prob ['P1_6400'] = 1- HREF ['6400']\n",
    "    return HREF, HREF_Prob \n",
    "    "
   ]
  },
  {
   "cell_type": "code",
   "execution_count": 18,
   "metadata": {},
   "outputs": [],
   "source": [
    "HREF24, HREF24_Prob = href_target_selection('HREF.csv', 24) "
   ]
  },
  {
   "cell_type": "code",
   "execution_count": 19,
   "metadata": {},
   "outputs": [],
   "source": [
    "HREF24_Prob.to_csv('HREF24_Prob.csv')"
   ]
  },
  {
   "cell_type": "markdown",
   "metadata": {},
   "source": [
    "### CNN"
   ]
  },
  {
   "cell_type": "code",
   "execution_count": 2,
   "metadata": {
    "collapsed": true
   },
   "outputs": [
    {
     "data": {
      "text/html": [
       "<div>\n",
       "<style scoped>\n",
       "    .dataframe tbody tr th:only-of-type {\n",
       "        vertical-align: middle;\n",
       "    }\n",
       "\n",
       "    .dataframe tbody tr th {\n",
       "        vertical-align: top;\n",
       "    }\n",
       "\n",
       "    .dataframe thead th {\n",
       "        text-align: right;\n",
       "    }\n",
       "</style>\n",
       "<table border=\"1\" class=\"dataframe\">\n",
       "  <thead>\n",
       "    <tr style=\"text-align: right;\">\n",
       "      <th></th>\n",
       "      <th>Date</th>\n",
       "      <th>VIS</th>\n",
       "      <th>VIS_Cat</th>\n",
       "      <th>C0_P0</th>\n",
       "      <th>C0_P1</th>\n",
       "      <th>C1_P0</th>\n",
       "      <th>C1_P1</th>\n",
       "      <th>C2_P0</th>\n",
       "      <th>C2_P1</th>\n",
       "      <th>C3_P0</th>\n",
       "      <th>C3_P1</th>\n",
       "    </tr>\n",
       "  </thead>\n",
       "  <tbody>\n",
       "    <tr>\n",
       "      <td>0</td>\n",
       "      <td>20180530</td>\n",
       "      <td>10.0</td>\n",
       "      <td>4</td>\n",
       "      <td>3.700000e-11</td>\n",
       "      <td>1.000000</td>\n",
       "      <td>1.260000e-05</td>\n",
       "      <td>0.999987</td>\n",
       "      <td>3.650000e-07</td>\n",
       "      <td>1.000000</td>\n",
       "      <td>1.150000e-07</td>\n",
       "      <td>1.000000</td>\n",
       "    </tr>\n",
       "    <tr>\n",
       "      <td>1</td>\n",
       "      <td>20180530</td>\n",
       "      <td>10.0</td>\n",
       "      <td>4</td>\n",
       "      <td>1.800000e-12</td>\n",
       "      <td>1.000000</td>\n",
       "      <td>1.040000e-05</td>\n",
       "      <td>0.999990</td>\n",
       "      <td>1.670030e-04</td>\n",
       "      <td>0.999833</td>\n",
       "      <td>3.548682e-03</td>\n",
       "      <td>0.996451</td>\n",
       "    </tr>\n",
       "    <tr>\n",
       "      <td>2</td>\n",
       "      <td>20180530</td>\n",
       "      <td>10.0</td>\n",
       "      <td>4</td>\n",
       "      <td>8.220000e-19</td>\n",
       "      <td>1.000000</td>\n",
       "      <td>9.090000e-14</td>\n",
       "      <td>1.000000</td>\n",
       "      <td>4.050000e-07</td>\n",
       "      <td>1.000000</td>\n",
       "      <td>4.900000e-06</td>\n",
       "      <td>0.999995</td>\n",
       "    </tr>\n",
       "    <tr>\n",
       "      <td>3</td>\n",
       "      <td>20180530</td>\n",
       "      <td>10.0</td>\n",
       "      <td>4</td>\n",
       "      <td>9.670000e-12</td>\n",
       "      <td>1.000000</td>\n",
       "      <td>1.200000e-07</td>\n",
       "      <td>1.000000</td>\n",
       "      <td>1.189696e-03</td>\n",
       "      <td>0.998810</td>\n",
       "      <td>7.002080e-04</td>\n",
       "      <td>0.999300</td>\n",
       "    </tr>\n",
       "    <tr>\n",
       "      <td>4</td>\n",
       "      <td>20180531</td>\n",
       "      <td>10.0</td>\n",
       "      <td>4</td>\n",
       "      <td>4.290000e-12</td>\n",
       "      <td>1.000000</td>\n",
       "      <td>3.670000e-07</td>\n",
       "      <td>1.000000</td>\n",
       "      <td>1.450000e-05</td>\n",
       "      <td>0.999985</td>\n",
       "      <td>2.870000e-06</td>\n",
       "      <td>0.999997</td>\n",
       "    </tr>\n",
       "    <tr>\n",
       "      <td>...</td>\n",
       "      <td>...</td>\n",
       "      <td>...</td>\n",
       "      <td>...</td>\n",
       "      <td>...</td>\n",
       "      <td>...</td>\n",
       "      <td>...</td>\n",
       "      <td>...</td>\n",
       "      <td>...</td>\n",
       "      <td>...</td>\n",
       "      <td>...</td>\n",
       "      <td>...</td>\n",
       "    </tr>\n",
       "    <tr>\n",
       "      <td>1143</td>\n",
       "      <td>20190715</td>\n",
       "      <td>10.0</td>\n",
       "      <td>4</td>\n",
       "      <td>3.810000e-10</td>\n",
       "      <td>1.000000</td>\n",
       "      <td>1.050000e-15</td>\n",
       "      <td>1.000000</td>\n",
       "      <td>6.009410e-04</td>\n",
       "      <td>0.999399</td>\n",
       "      <td>4.540000e-06</td>\n",
       "      <td>0.999995</td>\n",
       "    </tr>\n",
       "    <tr>\n",
       "      <td>1144</td>\n",
       "      <td>20190717</td>\n",
       "      <td>10.0</td>\n",
       "      <td>4</td>\n",
       "      <td>2.550000e-06</td>\n",
       "      <td>0.999997</td>\n",
       "      <td>2.200000e-05</td>\n",
       "      <td>0.999978</td>\n",
       "      <td>1.090750e-04</td>\n",
       "      <td>0.999891</td>\n",
       "      <td>2.626660e-04</td>\n",
       "      <td>0.999737</td>\n",
       "    </tr>\n",
       "    <tr>\n",
       "      <td>1145</td>\n",
       "      <td>20190717</td>\n",
       "      <td>7.0</td>\n",
       "      <td>4</td>\n",
       "      <td>1.670000e-08</td>\n",
       "      <td>1.000000</td>\n",
       "      <td>2.030000e-09</td>\n",
       "      <td>1.000000</td>\n",
       "      <td>9.987930e-04</td>\n",
       "      <td>0.999001</td>\n",
       "      <td>3.949562e-02</td>\n",
       "      <td>0.960504</td>\n",
       "    </tr>\n",
       "    <tr>\n",
       "      <td>1146</td>\n",
       "      <td>20190717</td>\n",
       "      <td>10.0</td>\n",
       "      <td>4</td>\n",
       "      <td>5.630000e-16</td>\n",
       "      <td>1.000000</td>\n",
       "      <td>8.290000e-23</td>\n",
       "      <td>1.000000</td>\n",
       "      <td>4.030000e-07</td>\n",
       "      <td>1.000000</td>\n",
       "      <td>1.130000e-07</td>\n",
       "      <td>1.000000</td>\n",
       "    </tr>\n",
       "    <tr>\n",
       "      <td>1147</td>\n",
       "      <td>20190717</td>\n",
       "      <td>10.0</td>\n",
       "      <td>4</td>\n",
       "      <td>9.780000e-10</td>\n",
       "      <td>1.000000</td>\n",
       "      <td>3.090000e-12</td>\n",
       "      <td>1.000000</td>\n",
       "      <td>1.443500e-04</td>\n",
       "      <td>0.999856</td>\n",
       "      <td>1.110000e-06</td>\n",
       "      <td>0.999999</td>\n",
       "    </tr>\n",
       "  </tbody>\n",
       "</table>\n",
       "<p>1148 rows × 11 columns</p>\n",
       "</div>"
      ],
      "text/plain": [
       "          Date   VIS  VIS_Cat         C0_P0     C0_P1         C1_P0     C1_P1  \\\n",
       "0     20180530  10.0        4  3.700000e-11  1.000000  1.260000e-05  0.999987   \n",
       "1     20180530  10.0        4  1.800000e-12  1.000000  1.040000e-05  0.999990   \n",
       "2     20180530  10.0        4  8.220000e-19  1.000000  9.090000e-14  1.000000   \n",
       "3     20180530  10.0        4  9.670000e-12  1.000000  1.200000e-07  1.000000   \n",
       "4     20180531  10.0        4  4.290000e-12  1.000000  3.670000e-07  1.000000   \n",
       "...        ...   ...      ...           ...       ...           ...       ...   \n",
       "1143  20190715  10.0        4  3.810000e-10  1.000000  1.050000e-15  1.000000   \n",
       "1144  20190717  10.0        4  2.550000e-06  0.999997  2.200000e-05  0.999978   \n",
       "1145  20190717   7.0        4  1.670000e-08  1.000000  2.030000e-09  1.000000   \n",
       "1146  20190717  10.0        4  5.630000e-16  1.000000  8.290000e-23  1.000000   \n",
       "1147  20190717  10.0        4  9.780000e-10  1.000000  3.090000e-12  1.000000   \n",
       "\n",
       "             C2_P0     C2_P1         C3_P0     C3_P1  \n",
       "0     3.650000e-07  1.000000  1.150000e-07  1.000000  \n",
       "1     1.670030e-04  0.999833  3.548682e-03  0.996451  \n",
       "2     4.050000e-07  1.000000  4.900000e-06  0.999995  \n",
       "3     1.189696e-03  0.998810  7.002080e-04  0.999300  \n",
       "4     1.450000e-05  0.999985  2.870000e-06  0.999997  \n",
       "...            ...       ...           ...       ...  \n",
       "1143  6.009410e-04  0.999399  4.540000e-06  0.999995  \n",
       "1144  1.090750e-04  0.999891  2.626660e-04  0.999737  \n",
       "1145  9.987930e-04  0.999001  3.949562e-02  0.960504  \n",
       "1146  4.030000e-07  1.000000  1.130000e-07  1.000000  \n",
       "1147  1.443500e-04  0.999856  1.110000e-06  0.999999  \n",
       "\n",
       "[1148 rows x 11 columns]"
      ]
     },
     "execution_count": 2,
     "metadata": {},
     "output_type": "execute_result"
    }
   ],
   "source": [
    "names = ['CNN_Prob_012.csv'] \n",
    "path = './'\n",
    "name = path + names[0]\n",
    "\n",
    "Prob012 = pandas.read_csv(path + names[0], header = 0)\n",
    "Prob012"
   ]
  },
  {
   "cell_type": "code",
   "execution_count": 11,
   "metadata": {},
   "outputs": [],
   "source": [
    "i = 0 \n",
    "raws = [] \n",
    "while i < length:  \n",
    "    raw = i+1\n",
    "    #print(raw)\n",
    "    raws.append(raw)\n",
    "    \n",
    "    i = i + 2\n",
    "    #print(raw)"
   ]
  },
  {
   "cell_type": "code",
   "execution_count": 13,
   "metadata": {},
   "outputs": [
    {
     "data": {
      "text/plain": [
       "574"
      ]
     },
     "execution_count": 13,
     "metadata": {},
     "output_type": "execute_result"
    }
   ],
   "source": [
    "len(raws)"
   ]
  },
  {
   "cell_type": "code",
   "execution_count": 16,
   "metadata": {},
   "outputs": [],
   "source": [
    "drop_raws = Prob012.index[raws]\n",
    "\n",
    "Prob012.drop(drop_raws, inplace=True)"
   ]
  },
  {
   "cell_type": "code",
   "execution_count": 18,
   "metadata": {},
   "outputs": [],
   "source": [
    "Prob012.to_csv('CNN_Prob_012_M.csv')"
   ]
  },
  {
   "cell_type": "code",
   "execution_count": 3,
   "metadata": {},
   "outputs": [
    {
     "data": {
      "text/html": [
       "<div>\n",
       "<style scoped>\n",
       "    .dataframe tbody tr th:only-of-type {\n",
       "        vertical-align: middle;\n",
       "    }\n",
       "\n",
       "    .dataframe tbody tr th {\n",
       "        vertical-align: top;\n",
       "    }\n",
       "\n",
       "    .dataframe thead th {\n",
       "        text-align: right;\n",
       "    }\n",
       "</style>\n",
       "<table border=\"1\" class=\"dataframe\">\n",
       "  <thead>\n",
       "    <tr style=\"text-align: right;\">\n",
       "      <th></th>\n",
       "      <th>Date</th>\n",
       "      <th>T_1600</th>\n",
       "      <th>T_3200</th>\n",
       "      <th>T_6400</th>\n",
       "      <th>H6_P0_1600</th>\n",
       "      <th>H6_P1_1600</th>\n",
       "      <th>H6_P0_3200</th>\n",
       "      <th>H6_P1_3200</th>\n",
       "      <th>H6_P0_6400</th>\n",
       "      <th>H6_P1_6400</th>\n",
       "      <th>...</th>\n",
       "      <th>H12_P0_3200</th>\n",
       "      <th>H12_P1_3200</th>\n",
       "      <th>H12_P0_6400</th>\n",
       "      <th>H12_P1_6400</th>\n",
       "      <th>H24_P0_1600</th>\n",
       "      <th>H24_P1_1600</th>\n",
       "      <th>H24_P0_3200</th>\n",
       "      <th>H24_P1_3200</th>\n",
       "      <th>H24_P0_6400</th>\n",
       "      <th>H24_P1_6400</th>\n",
       "    </tr>\n",
       "  </thead>\n",
       "  <tbody>\n",
       "    <tr>\n",
       "      <td>0</td>\n",
       "      <td>20180530</td>\n",
       "      <td>1</td>\n",
       "      <td>1</td>\n",
       "      <td>1</td>\n",
       "      <td>0.0</td>\n",
       "      <td>1.0</td>\n",
       "      <td>0.0</td>\n",
       "      <td>1.0</td>\n",
       "      <td>0.0</td>\n",
       "      <td>1.0</td>\n",
       "      <td>...</td>\n",
       "      <td>0.0</td>\n",
       "      <td>1.0</td>\n",
       "      <td>0.0</td>\n",
       "      <td>1.0</td>\n",
       "      <td>0.0</td>\n",
       "      <td>1.0</td>\n",
       "      <td>0.0</td>\n",
       "      <td>1.0</td>\n",
       "      <td>0.0</td>\n",
       "      <td>1.0</td>\n",
       "    </tr>\n",
       "    <tr>\n",
       "      <td>1</td>\n",
       "      <td>20180530</td>\n",
       "      <td>1</td>\n",
       "      <td>1</td>\n",
       "      <td>1</td>\n",
       "      <td>0.0</td>\n",
       "      <td>1.0</td>\n",
       "      <td>0.0</td>\n",
       "      <td>1.0</td>\n",
       "      <td>0.0</td>\n",
       "      <td>1.0</td>\n",
       "      <td>...</td>\n",
       "      <td>0.0</td>\n",
       "      <td>1.0</td>\n",
       "      <td>0.0</td>\n",
       "      <td>1.0</td>\n",
       "      <td>0.0</td>\n",
       "      <td>1.0</td>\n",
       "      <td>0.0</td>\n",
       "      <td>1.0</td>\n",
       "      <td>0.0</td>\n",
       "      <td>1.0</td>\n",
       "    </tr>\n",
       "    <tr>\n",
       "      <td>2</td>\n",
       "      <td>20180531</td>\n",
       "      <td>1</td>\n",
       "      <td>1</td>\n",
       "      <td>1</td>\n",
       "      <td>0.0</td>\n",
       "      <td>1.0</td>\n",
       "      <td>0.0</td>\n",
       "      <td>1.0</td>\n",
       "      <td>0.0</td>\n",
       "      <td>1.0</td>\n",
       "      <td>...</td>\n",
       "      <td>0.0</td>\n",
       "      <td>1.0</td>\n",
       "      <td>0.0</td>\n",
       "      <td>1.0</td>\n",
       "      <td>0.0</td>\n",
       "      <td>1.0</td>\n",
       "      <td>0.0</td>\n",
       "      <td>1.0</td>\n",
       "      <td>0.0</td>\n",
       "      <td>1.0</td>\n",
       "    </tr>\n",
       "    <tr>\n",
       "      <td>3</td>\n",
       "      <td>20180531</td>\n",
       "      <td>1</td>\n",
       "      <td>1</td>\n",
       "      <td>1</td>\n",
       "      <td>0.0</td>\n",
       "      <td>1.0</td>\n",
       "      <td>0.0</td>\n",
       "      <td>1.0</td>\n",
       "      <td>0.0</td>\n",
       "      <td>1.0</td>\n",
       "      <td>...</td>\n",
       "      <td>0.0</td>\n",
       "      <td>1.0</td>\n",
       "      <td>0.0</td>\n",
       "      <td>1.0</td>\n",
       "      <td>0.0</td>\n",
       "      <td>1.0</td>\n",
       "      <td>0.0</td>\n",
       "      <td>1.0</td>\n",
       "      <td>0.0</td>\n",
       "      <td>1.0</td>\n",
       "    </tr>\n",
       "    <tr>\n",
       "      <td>4</td>\n",
       "      <td>20180601</td>\n",
       "      <td>1</td>\n",
       "      <td>1</td>\n",
       "      <td>1</td>\n",
       "      <td>0.0</td>\n",
       "      <td>1.0</td>\n",
       "      <td>0.0</td>\n",
       "      <td>1.0</td>\n",
       "      <td>0.0</td>\n",
       "      <td>1.0</td>\n",
       "      <td>...</td>\n",
       "      <td>0.0</td>\n",
       "      <td>1.0</td>\n",
       "      <td>0.0</td>\n",
       "      <td>1.0</td>\n",
       "      <td>0.0</td>\n",
       "      <td>1.0</td>\n",
       "      <td>0.0</td>\n",
       "      <td>1.0</td>\n",
       "      <td>0.0</td>\n",
       "      <td>1.0</td>\n",
       "    </tr>\n",
       "    <tr>\n",
       "      <td>...</td>\n",
       "      <td>...</td>\n",
       "      <td>...</td>\n",
       "      <td>...</td>\n",
       "      <td>...</td>\n",
       "      <td>...</td>\n",
       "      <td>...</td>\n",
       "      <td>...</td>\n",
       "      <td>...</td>\n",
       "      <td>...</td>\n",
       "      <td>...</td>\n",
       "      <td>...</td>\n",
       "      <td>...</td>\n",
       "      <td>...</td>\n",
       "      <td>...</td>\n",
       "      <td>...</td>\n",
       "      <td>...</td>\n",
       "      <td>...</td>\n",
       "      <td>...</td>\n",
       "      <td>...</td>\n",
       "      <td>...</td>\n",
       "      <td>...</td>\n",
       "    </tr>\n",
       "    <tr>\n",
       "      <td>1646</td>\n",
       "      <td>20200527</td>\n",
       "      <td>1</td>\n",
       "      <td>1</td>\n",
       "      <td>1</td>\n",
       "      <td>0.0</td>\n",
       "      <td>1.0</td>\n",
       "      <td>0.0</td>\n",
       "      <td>1.0</td>\n",
       "      <td>0.0</td>\n",
       "      <td>1.0</td>\n",
       "      <td>...</td>\n",
       "      <td>0.0</td>\n",
       "      <td>1.0</td>\n",
       "      <td>0.0</td>\n",
       "      <td>1.0</td>\n",
       "      <td>0.0</td>\n",
       "      <td>1.0</td>\n",
       "      <td>0.0</td>\n",
       "      <td>1.0</td>\n",
       "      <td>0.0</td>\n",
       "      <td>1.0</td>\n",
       "    </tr>\n",
       "    <tr>\n",
       "      <td>1647</td>\n",
       "      <td>20200529</td>\n",
       "      <td>1</td>\n",
       "      <td>1</td>\n",
       "      <td>1</td>\n",
       "      <td>0.0</td>\n",
       "      <td>1.0</td>\n",
       "      <td>0.0</td>\n",
       "      <td>1.0</td>\n",
       "      <td>0.0</td>\n",
       "      <td>1.0</td>\n",
       "      <td>...</td>\n",
       "      <td>0.0</td>\n",
       "      <td>1.0</td>\n",
       "      <td>0.0</td>\n",
       "      <td>1.0</td>\n",
       "      <td>0.0</td>\n",
       "      <td>1.0</td>\n",
       "      <td>0.0</td>\n",
       "      <td>1.0</td>\n",
       "      <td>0.0</td>\n",
       "      <td>1.0</td>\n",
       "    </tr>\n",
       "    <tr>\n",
       "      <td>1648</td>\n",
       "      <td>20200529</td>\n",
       "      <td>1</td>\n",
       "      <td>1</td>\n",
       "      <td>1</td>\n",
       "      <td>0.0</td>\n",
       "      <td>1.0</td>\n",
       "      <td>0.0</td>\n",
       "      <td>1.0</td>\n",
       "      <td>0.0</td>\n",
       "      <td>1.0</td>\n",
       "      <td>...</td>\n",
       "      <td>0.0</td>\n",
       "      <td>1.0</td>\n",
       "      <td>0.0</td>\n",
       "      <td>1.0</td>\n",
       "      <td>0.0</td>\n",
       "      <td>1.0</td>\n",
       "      <td>0.0</td>\n",
       "      <td>1.0</td>\n",
       "      <td>0.0</td>\n",
       "      <td>1.0</td>\n",
       "    </tr>\n",
       "    <tr>\n",
       "      <td>1649</td>\n",
       "      <td>20200529</td>\n",
       "      <td>1</td>\n",
       "      <td>1</td>\n",
       "      <td>1</td>\n",
       "      <td>0.0</td>\n",
       "      <td>1.0</td>\n",
       "      <td>0.0</td>\n",
       "      <td>1.0</td>\n",
       "      <td>0.0</td>\n",
       "      <td>1.0</td>\n",
       "      <td>...</td>\n",
       "      <td>0.0</td>\n",
       "      <td>1.0</td>\n",
       "      <td>0.0</td>\n",
       "      <td>1.0</td>\n",
       "      <td>0.0</td>\n",
       "      <td>1.0</td>\n",
       "      <td>0.0</td>\n",
       "      <td>1.0</td>\n",
       "      <td>0.0</td>\n",
       "      <td>1.0</td>\n",
       "    </tr>\n",
       "    <tr>\n",
       "      <td>1650</td>\n",
       "      <td>20200529</td>\n",
       "      <td>1</td>\n",
       "      <td>1</td>\n",
       "      <td>1</td>\n",
       "      <td>0.0</td>\n",
       "      <td>1.0</td>\n",
       "      <td>0.0</td>\n",
       "      <td>1.0</td>\n",
       "      <td>0.0</td>\n",
       "      <td>1.0</td>\n",
       "      <td>...</td>\n",
       "      <td>0.0</td>\n",
       "      <td>1.0</td>\n",
       "      <td>0.0</td>\n",
       "      <td>1.0</td>\n",
       "      <td>0.0</td>\n",
       "      <td>1.0</td>\n",
       "      <td>0.0</td>\n",
       "      <td>1.0</td>\n",
       "      <td>0.0</td>\n",
       "      <td>1.0</td>\n",
       "    </tr>\n",
       "  </tbody>\n",
       "</table>\n",
       "<p>1651 rows × 22 columns</p>\n",
       "</div>"
      ],
      "text/plain": [
       "          Date  T_1600  T_3200  T_6400  H6_P0_1600  H6_P1_1600  H6_P0_3200  \\\n",
       "0     20180530       1       1       1         0.0         1.0         0.0   \n",
       "1     20180530       1       1       1         0.0         1.0         0.0   \n",
       "2     20180531       1       1       1         0.0         1.0         0.0   \n",
       "3     20180531       1       1       1         0.0         1.0         0.0   \n",
       "4     20180601       1       1       1         0.0         1.0         0.0   \n",
       "...        ...     ...     ...     ...         ...         ...         ...   \n",
       "1646  20200527       1       1       1         0.0         1.0         0.0   \n",
       "1647  20200529       1       1       1         0.0         1.0         0.0   \n",
       "1648  20200529       1       1       1         0.0         1.0         0.0   \n",
       "1649  20200529       1       1       1         0.0         1.0         0.0   \n",
       "1650  20200529       1       1       1         0.0         1.0         0.0   \n",
       "\n",
       "      H6_P1_3200  H6_P0_6400  H6_P1_6400  ...  H12_P0_3200  H12_P1_3200  \\\n",
       "0            1.0         0.0         1.0  ...          0.0          1.0   \n",
       "1            1.0         0.0         1.0  ...          0.0          1.0   \n",
       "2            1.0         0.0         1.0  ...          0.0          1.0   \n",
       "3            1.0         0.0         1.0  ...          0.0          1.0   \n",
       "4            1.0         0.0         1.0  ...          0.0          1.0   \n",
       "...          ...         ...         ...  ...          ...          ...   \n",
       "1646         1.0         0.0         1.0  ...          0.0          1.0   \n",
       "1647         1.0         0.0         1.0  ...          0.0          1.0   \n",
       "1648         1.0         0.0         1.0  ...          0.0          1.0   \n",
       "1649         1.0         0.0         1.0  ...          0.0          1.0   \n",
       "1650         1.0         0.0         1.0  ...          0.0          1.0   \n",
       "\n",
       "      H12_P0_6400  H12_P1_6400  H24_P0_1600  H24_P1_1600  H24_P0_3200  \\\n",
       "0             0.0          1.0          0.0          1.0          0.0   \n",
       "1             0.0          1.0          0.0          1.0          0.0   \n",
       "2             0.0          1.0          0.0          1.0          0.0   \n",
       "3             0.0          1.0          0.0          1.0          0.0   \n",
       "4             0.0          1.0          0.0          1.0          0.0   \n",
       "...           ...          ...          ...          ...          ...   \n",
       "1646          0.0          1.0          0.0          1.0          0.0   \n",
       "1647          0.0          1.0          0.0          1.0          0.0   \n",
       "1648          0.0          1.0          0.0          1.0          0.0   \n",
       "1649          0.0          1.0          0.0          1.0          0.0   \n",
       "1650          0.0          1.0          0.0          1.0          0.0   \n",
       "\n",
       "      H24_P1_3200  H24_P0_6400  H24_P1_6400  \n",
       "0             1.0          0.0          1.0  \n",
       "1             1.0          0.0          1.0  \n",
       "2             1.0          0.0          1.0  \n",
       "3             1.0          0.0          1.0  \n",
       "4             1.0          0.0          1.0  \n",
       "...           ...          ...          ...  \n",
       "1646          1.0          0.0          1.0  \n",
       "1647          1.0          0.0          1.0  \n",
       "1648          1.0          0.0          1.0  \n",
       "1649          1.0          0.0          1.0  \n",
       "1650          1.0          0.0          1.0  \n",
       "\n",
       "[1651 rows x 22 columns]"
      ]
     },
     "execution_count": 3,
     "metadata": {},
     "output_type": "execute_result"
    }
   ],
   "source": [
    "names = ['A.csv'] \n",
    "path = './'\n",
    "name = path + names[0]\n",
    "\n",
    "Data = pandas.read_csv(path + names[0], header = 0)\n",
    "Data"
   ]
  },
  {
   "cell_type": "code",
   "execution_count": 4,
   "metadata": {},
   "outputs": [],
   "source": [
    "NumpyData = Data.to_numpy()\n",
    "HREF6_1600 = NumpyData[:, 4:6]\n",
    "HREF6_3200 = NumpyData[:, 6:8]\n",
    "HREF6_6400 = NumpyData[:, 8:10]\n",
    "\n",
    "HREF12_1600 = NumpyData[:, 10:12]\n",
    "HREF12_3200 = NumpyData[:, 12:14]\n",
    "HREF12_6400 = NumpyData[:, 14:16]\n",
    "\n",
    "HREF24_1600 = NumpyData[:, 16:18]\n",
    "HREF24_3200 = NumpyData[:, 18:20]\n",
    "HREF24_6400 = NumpyData[:, 20:22]\n",
    "##CNN_1600 = NumpyData[:, 7:9]\n",
    "#CNN_3200 = NumpyData[:, 9:11]\n",
    "#CNN_6400 = NumpyData[:, 11:13]\n",
    "#CNN_9600 = NumpyData[:, 13:15]\n",
    "\n",
    "T_1600 = NumpyData[:, 1]\n",
    "T_3200 = NumpyData[:, 2]\n",
    "T_6400 = NumpyData[:, 3]\n"
   ]
  },
  {
   "cell_type": "code",
   "execution_count": 6,
   "metadata": {},
   "outputs": [],
   "source": [
    "def Optimal_Thr(y, ypred): \n",
    "    length = len(ypred) \n",
    "    ypred_ = [0]*length\n",
    "    results = numpy.empty(shape = (1000, 8), dtype='float')\n",
    "    th_list = numpy.arange(0, 1, 0.001).tolist()\n",
    "    for j in range(1000):\n",
    "        th = th_list[j]\n",
    "        for i in range(length):\n",
    "            prob = ypred[i, 1] \n",
    "            if prob > th:\n",
    "                ypred_[i] = 1\n",
    "            else:\n",
    "                ypred_[i] = 0\n",
    "        ypred_ = numpy.array(ypred_)\n",
    "        tn, fp, fn, tp = confusion_matrix(y, ypred_).ravel()\n",
    "        a = tn     # Hit\n",
    "        b = fn      # false alarm\n",
    "        c = fp      # miss\n",
    "        d = tp    # correct rejection \n",
    "\n",
    "        POD = a/(a+c)\n",
    "        results[j, 0] = POD\n",
    "\n",
    "        F   = b/(b+d)\n",
    "        results[j, 1] = F\n",
    "\n",
    "        FAR  = b/(a+b)\n",
    "        results[j,2] = FAR\n",
    "\n",
    "        CSI = a/(a+b+c)\n",
    "        results[j, 3] = CSI\n",
    "\n",
    "        PSS = ((a*d)-(b*c))/((b+d)*(a+c))\n",
    "        results[j, 4] = PSS\n",
    "\n",
    "        HSS = (2*((a*d)-(b*c)))/(((a+c)*(c+d))+((a+b)*(b+d)))\n",
    "        results[j, 5] = HSS\n",
    "\n",
    "        ORSS = ((a*d)-(b*c))/((a*d)+(b*c))\n",
    "        results[j, 6] = ORSS\n",
    "\n",
    "        CSS = ((a*d)-(b*c))/((a+b)*(c+d))\n",
    "        results[j, 7] = CSS\n",
    " \n",
    "    \n",
    "    return th_list, results\n",
    "        \n"
   ]
  },
  {
   "cell_type": "code",
   "execution_count": 7,
   "metadata": {},
   "outputs": [],
   "source": [
    "def skilled_metrics(y, ypred, metric): \n",
    "    threshold_list, result_list = Optimal_Thr(y, ypred)\n",
    "    if metric == 'PSS':\n",
    "        PSS = result_list[:, 4]\n",
    "        raws = numpy.where(PSS == numpy.amax(PSS))[-1] \n",
    "        length_raws = len(raws) \n",
    "        if length_raws == 1:\n",
    "            accuray_list = result_list[raws[0], :] \n",
    "            optimal_threshold = threshold_list[raws[0]]\n",
    "        else:\n",
    "            accuray_list = result_list[raws[-1], :] \n",
    "            optimal_threshold = threshold_list[raws[-1]]\n",
    "\n",
    "    if metric == 'HSS':\n",
    "        \n",
    "        HSS = result_list[:, 5]\n",
    "        raws = numpy.where(HSS == numpy.amax(HSS))[-1] \n",
    "        length_raws = len(raws) \n",
    "        if length_raws == 1:\n",
    "            accuray_list = result_list[raws[0], :] \n",
    "            optimal_threshold = threshold_list[raws[0]]\n",
    "        else:\n",
    "            accuray_list = result_list[raws[-1], :]\n",
    "            optimal_threshold = threshold_list[raws[-1]]\n",
    "    print('The optima threshold is: ', optimal_threshold)\n",
    "    print('POD  : ', accuray_list[0]) \n",
    "    print('F    : ', accuray_list[1])\n",
    "    print('FAR  : ', accuray_list[2])\n",
    "    print('CSI  : ', accuray_list[3])\n",
    "    print('PSS  : ', accuray_list[4])\n",
    "    print('HSS  : ', accuray_list[5])\n",
    "    print('ORSS : ', accuray_list[6])\n",
    "    print('CSS  : ', accuray_list[7])\n",
    "\n",
    "    return accuray_list, result_list \n"
   ]
  },
  {
   "cell_type": "code",
   "execution_count": 8,
   "metadata": {
    "scrolled": true
   },
   "outputs": [
    {
     "name": "stdout",
     "output_type": "stream",
     "text": [
      "The optima threshold is:  0.464\n",
      "POD  :  0.2553191489361702\n",
      "F    :  0.005610972568578554\n",
      "FAR  :  0.42857142857142855\n",
      "CSI  :  0.21428571428571427\n",
      "PSS  :  0.24970817636759166\n",
      "HSS  :  0.34136036411772175\n",
      "ORSS :  0.9676175790285274\n",
      "CSS  :  0.5499561787905346\n"
     ]
    }
   ],
   "source": [
    "accuray_list, result_list = skilled_metrics(T_1600, HREF12_1600, 'HSS')"
   ]
  },
  {
   "cell_type": "code",
   "execution_count": 48,
   "metadata": {
    "collapsed": true
   },
   "outputs": [
    {
     "data": {
      "text/plain": [
       "array([[0.0212766 , 0.00124688, 0.66666667, ..., 0.03670929, 0.89138135,\n",
       "        0.30542071],\n",
       "       [0.0212766 , 0.00124688, 0.66666667, ..., 0.03670929, 0.89138135,\n",
       "        0.30542071],\n",
       "       [0.0212766 , 0.00124688, 0.66666667, ..., 0.03670929, 0.89138135,\n",
       "        0.30542071],\n",
       "       ...,\n",
       "       [0.5106383 , 0.11658354, 0.88625592, ..., 0.14629522, 0.77545746,\n",
       "        0.09777185],\n",
       "       [0.5106383 , 0.11658354, 0.88625592, ..., 0.14629522, 0.77545746,\n",
       "        0.09777185],\n",
       "       [0.5106383 , 0.11658354, 0.88625592, ..., 0.14629522, 0.77545746,\n",
       "        0.09777185]])"
      ]
     },
     "execution_count": 48,
     "metadata": {},
     "output_type": "execute_result"
    }
   ],
   "source": [
    "result_list"
   ]
  },
  {
   "cell_type": "code",
   "execution_count": 42,
   "metadata": {},
   "outputs": [],
   "source": [
    "POD = result_list[:, 0]\n",
    "FAR = result_list[:, 2]"
   ]
  },
  {
   "cell_type": "code",
   "execution_count": 210,
   "metadata": {},
   "outputs": [
    {
     "name": "stdout",
     "output_type": "stream",
     "text": [
      "the maximum value:  (array([830, 831, 832, 833, 834], dtype=int64),)\n"
     ]
    }
   ],
   "source": [
    "PSS = results[:, 5]\n",
    "r = numpy.where(PSS == numpy.amax(PSS)) \n",
    "print('the maximum value: ', r) "
   ]
  },
  {
   "cell_type": "code",
   "execution_count": 212,
   "metadata": {},
   "outputs": [
    {
     "data": {
      "text/plain": [
       "array([0.6       , 0.05591678, 0.55483871, 0.34328358, 0.54408322,\n",
       "       0.46866995, 0.92402827, 0.41445368])"
      ]
     },
     "execution_count": 212,
     "metadata": {},
     "output_type": "execute_result"
    }
   ],
   "source": [
    "results[830, :] "
   ]
  },
  {
   "cell_type": "code",
   "execution_count": 213,
   "metadata": {},
   "outputs": [
    {
     "data": {
      "text/plain": [
       "0.8300000000000001"
      ]
     },
     "execution_count": 213,
     "metadata": {},
     "output_type": "execute_result"
    }
   ],
   "source": [
    "th_list[830] "
   ]
  },
  {
   "cell_type": "markdown",
   "metadata": {},
   "source": [
    "### Roc Curve: "
   ]
  },
  {
   "cell_type": "code",
   "execution_count": 9,
   "metadata": {},
   "outputs": [],
   "source": [
    "def get_points_in_roc_curve(observed_labels, forecast_probabilities):\n",
    "    \"\"\"Creates points for ROC curve.\n",
    "\n",
    "    E = number of examples\n",
    "    T = number of binarization thresholds\n",
    "\n",
    "    :param observed_labels: length-E numpy array of class labels (integers in\n",
    "        0...1).\n",
    "    :param forecast_probabilities: length-E numpy array with forecast\n",
    "        probabilities of label = 1.\n",
    "    :return: pofd_by_threshold: length-T numpy array of POFD (probability of\n",
    "        false detection) values.\n",
    "    :return: pod_by_threshold: length-T numpy array of POD (probability of\n",
    "        detection) values.\n",
    "    \"\"\"\n",
    "\n",
    "    assert numpy.all(numpy.logical_or(\n",
    "        observed_labels == 0, observed_labels == 1\n",
    "    ))\n",
    "\n",
    "    assert numpy.all(numpy.logical_and(\n",
    "        forecast_probabilities >= 0, forecast_probabilities <= 1\n",
    "    ))\n",
    "\n",
    "    observed_labels = observed_labels.astype(int)\n",
    "    binarization_thresholds = numpy.linspace(0, 1, num=1001, dtype=float)\n",
    "\n",
    "    num_thresholds = len(binarization_thresholds)\n",
    "    pofd_by_threshold = numpy.full(num_thresholds, numpy.nan)\n",
    "    pod_by_threshold = numpy.full(num_thresholds, numpy.nan)\n",
    "\n",
    "    for k in range(num_thresholds):\n",
    "        these_forecast_labels = (\n",
    "            forecast_probabilities >= binarization_thresholds[k]\n",
    "        ).astype(int)\n",
    "\n",
    "        this_num_hits = numpy.sum(numpy.logical_and(\n",
    "            these_forecast_labels == 1, observed_labels == 1\n",
    "        ))\n",
    "\n",
    "        this_num_false_alarms = numpy.sum(numpy.logical_and(\n",
    "            these_forecast_labels == 1, observed_labels == 0\n",
    "        ))\n",
    "\n",
    "        this_num_misses = numpy.sum(numpy.logical_and(\n",
    "            these_forecast_labels == 0, observed_labels == 1\n",
    "        ))\n",
    "\n",
    "        this_num_correct_nulls = numpy.sum(numpy.logical_and(\n",
    "            these_forecast_labels == 0, observed_labels == 0\n",
    "        ))\n",
    "\n",
    "        try:\n",
    "            pofd_by_threshold[k] = (\n",
    "                float(this_num_false_alarms) /\n",
    "                (this_num_false_alarms + this_num_correct_nulls)\n",
    "            )\n",
    "        except ZeroDivisionError:\n",
    "            pass\n",
    "\n",
    "        try:\n",
    "            pod_by_threshold[k] = (\n",
    "                float(this_num_hits) / (this_num_hits + this_num_misses)\n",
    "            )\n",
    "        except ZeroDivisionError:\n",
    "            pass\n",
    "\n",
    "    pod_by_threshold = numpy.array([1.] + pod_by_threshold.tolist() + [0.])\n",
    "    pofd_by_threshold = numpy.array([1.] + pofd_by_threshold.tolist() + [0.])\n",
    "\n",
    "    return pofd_by_threshold, pod_by_threshold"
   ]
  },
  {
   "cell_type": "code",
   "execution_count": 15,
   "metadata": {},
   "outputs": [],
   "source": [
    "pofd_by_threshold, pod_by_threshold = get_points_in_roc_curve(T_1600, HREF12_1600[:, 0])"
   ]
  },
  {
   "cell_type": "code",
   "execution_count": 24,
   "metadata": {},
   "outputs": [],
   "source": [
    "\n",
    "def _get_pofd_pod_grid(pofd_spacing=0.01, pod_spacing=0.01):\n",
    "    \"\"\"Creates grid in POFD-POD space.\n",
    "\n",
    "    M = number of rows (unique POD values) in grid\n",
    "    N = number of columns (unique POFD values) in grid\n",
    "\n",
    "    :param pofd_spacing: Spacing between grid cells in adjacent columns.\n",
    "    :param pod_spacing: Spacing between grid cells in adjacent rows.\n",
    "    :return: pofd_matrix: M-by-N numpy array of POFD values.\n",
    "    :return: pod_matrix: M-by-N numpy array of POD values.\n",
    "    \"\"\"\n",
    "\n",
    "    num_pofd_values = 1 + int(numpy.ceil(1. / pofd_spacing))\n",
    "    num_pod_values = 1 + int(numpy.ceil(1. / pod_spacing))\n",
    "\n",
    "    unique_pofd_values = numpy.linspace(0., 1., num=num_pofd_values)\n",
    "    unique_pod_values = numpy.linspace(0., 1., num=num_pod_values)[::-1]\n",
    "    return numpy.meshgrid(unique_pofd_values, unique_pod_values)\n"
   ]
  },
  {
   "cell_type": "code",
   "execution_count": 27,
   "metadata": {},
   "outputs": [],
   "source": [
    "def _get_peirce_colour_scheme():\n",
    "    \"\"\"Returns colour scheme for Peirce score.\n",
    "\n",
    "    :return: colour_map_object: Colour scheme (instance of\n",
    "        `matplotlib.colors.ListedColormap`).\n",
    "    :return: colour_norm_object: Instance of `matplotlib.colors.BoundaryNorm`,\n",
    "        defining the scale of the colour map.\n",
    "    \"\"\"\n",
    "\n",
    "    this_colour_map_object = pyplot.cm.Blues\n",
    "    this_colour_norm_object = matplotlib.colors.BoundaryNorm(\n",
    "        LEVELS_FOR_PEIRCE_CONTOURS, this_colour_map_object.N)\n",
    "\n",
    "    rgba_matrix = this_colour_map_object(this_colour_norm_object(\n",
    "        LEVELS_FOR_PEIRCE_CONTOURS\n",
    "    ))\n",
    "\n",
    "    colour_list = [\n",
    "        rgba_matrix[i, ..., :-1] for i in range(rgba_matrix.shape[0])\n",
    "    ]\n",
    "\n",
    "    colour_map_object = matplotlib.colors.ListedColormap(colour_list)\n",
    "    colour_map_object.set_under(numpy.array([1, 1, 1]))\n",
    "    colour_norm_object = matplotlib.colors.BoundaryNorm(\n",
    "        LEVELS_FOR_PEIRCE_CONTOURS, colour_map_object.N)\n",
    "\n",
    "    return colour_map_object, colour_norm_object"
   ]
  },
  {
   "cell_type": "code",
   "execution_count": 25,
   "metadata": {},
   "outputs": [],
   "source": [
    "\n",
    "def plot_roc_curve(\n",
    "        observed_labels, forecast_probabilities,\n",
    "        line_colour=DEFAULT_LINE_COLOUR, line_width=DEFAULT_LINE_WIDTH,\n",
    "        random_line_colour=DEFAULT_RANDOM_LINE_COLOUR,\n",
    "        random_line_width=DEFAULT_RANDOM_LINE_WIDTH, axes_object=None):\n",
    "    \"\"\"Plots ROC curve.\n",
    "\n",
    "    E = number of examples\n",
    "\n",
    "    :param observed_labels: length-E numpy array of class labels (integers in\n",
    "        0...1).\n",
    "    :param forecast_probabilities: length-E numpy array with forecast\n",
    "        probabilities of label = 1.\n",
    "    :param line_colour: Colour (in any format accepted by `matplotlib.colors`).\n",
    "    :param line_width: Line width (real positive number).\n",
    "    :param random_line_colour: Colour of reference line (ROC curve for random\n",
    "        predictor).\n",
    "    :param random_line_width: Width of reference line (ROC curve for random\n",
    "        predictor).\n",
    "    :param axes_object: Will plot on these axes (instance of\n",
    "        `matplotlib.axes._subplots.AxesSubplot`).  If `axes_object is None`,\n",
    "        will create new axes.\n",
    "    :return: pofd_by_threshold: See doc for `get_points_in_roc_curve`.\n",
    "    :return: pod_by_threshold: Same.\n",
    "    \"\"\"\n",
    "\n",
    "    pofd_by_threshold, pod_by_threshold = get_points_in_roc_curve(\n",
    "        observed_labels=observed_labels,\n",
    "        forecast_probabilities=forecast_probabilities)\n",
    "\n",
    "    if axes_object is None:\n",
    "        _, axes_object = pyplot.subplots(\n",
    "            1, 1, figsize=(FIGURE_WIDTH_INCHES, FIGURE_HEIGHT_INCHES)\n",
    "        )\n",
    "\n",
    "    pofd_matrix, pod_matrix = _get_pofd_pod_grid()\n",
    "    peirce_score_matrix = pod_matrix - pofd_matrix\n",
    "\n",
    "    colour_map_object, colour_norm_object = _get_peirce_colour_scheme()\n",
    "\n",
    "    pyplot.contourf(\n",
    "        pofd_matrix, pod_matrix, peirce_score_matrix,\n",
    "        LEVELS_FOR_PEIRCE_CONTOURS, cmap=colour_map_object,\n",
    "        norm=colour_norm_object, vmin=0., vmax=1., axes=axes_object)\n",
    "\n",
    "    # TODO(thunderhoser): Calling private method is a HACK.\n",
    "    colour_bar_object = performance_diagrams._add_colour_bar(\n",
    "        axes_object=axes_object, colour_map_object=colour_map_object,\n",
    "        colour_norm_object=colour_norm_object,\n",
    "        values_to_colour=peirce_score_matrix, min_colour_value=0.,\n",
    "        max_colour_value=1., orientation_string='vertical',\n",
    "        extend_min=False, extend_max=False)\n",
    "\n",
    "    print(colour_bar_object)\n",
    "    colour_bar_object.set_label('Peirce score')\n",
    "\n",
    "    random_x_coords = numpy.array([0., 1.])\n",
    "    random_y_coords = numpy.array([0., 1.])\n",
    "    axes_object.plot(\n",
    "        random_x_coords, random_y_coords, color=random_line_colour,\n",
    "        linestyle='dashed', linewidth=random_line_width)\n",
    "\n",
    "    nan_flags = numpy.logical_or(\n",
    "        numpy.isnan(pofd_by_threshold), numpy.isnan(pod_by_threshold)\n",
    "    )\n",
    "\n",
    "    if not numpy.all(nan_flags):\n",
    "        real_indices = numpy.where(numpy.invert(nan_flags))[0]\n",
    "        axes_object.plot(\n",
    "            pofd_by_threshold[real_indices], pod_by_threshold[real_indices],\n",
    "            color=line_colour, linestyle='solid', linewidth=line_width)\n",
    "\n",
    "    axes_object.set_xlabel('POFD (probability of false detection)')\n",
    "    axes_object.set_ylabel('POD (probability of detection)')\n",
    "    axes_object.set_xlim(0., 1.)\n",
    "    axes_object.set_ylim(0., 1.)\n",
    "\n",
    "    return pofd_by_threshold, pod_by_threshold"
   ]
  },
  {
   "cell_type": "code",
   "execution_count": 45,
   "metadata": {
    "scrolled": true
   },
   "outputs": [
    {
     "name": "stdout",
     "output_type": "stream",
     "text": [
      "<matplotlib.colorbar.Colorbar object at 0x000002A4AFDBAD68>\n"
     ]
    },
    {
     "name": "stderr",
     "output_type": "stream",
     "text": [
      "C:\\Users\\hkamangir\\AppData\\Local\\Continuum\\anaconda3\\lib\\site-packages\\ipykernel_launcher.py:44: UserWarning: The following kwargs were not used by contour: 'axes'\n"
     ]
    },
    {
     "data": {
      "image/png": "[encoded data removed]",
      "text/plain": [
       "<Figure size 720x720 with 2 Axes>"
      ]
     },
     "metadata": {
      "needs_background": "light"
     },
     "output_type": "display_data"
    }
   ],
   "source": [
    "_ = plot_roc_curve(T_1600, HREF12_1600[:, 0],\n",
    "        line_colour=DEFAULT_LINE_COLOUR, line_width=DEFAULT_LINE_WIDTH,\n",
    "        random_line_colour=DEFAULT_RANDOM_LINE_COLOUR,\n",
    "        random_line_width=DEFAULT_RANDOM_LINE_WIDTH, axes_object=None)"
   ]
  },
  {
   "cell_type": "code",
   "execution_count": 30,
   "metadata": {},
   "outputs": [],
   "source": [
    "import numpy\n",
    "import matplotlib.colors\n",
    "import matplotlib.pyplot as pyplot\n",
    "import performance_diagrams"
   ]
  },
  {
   "cell_type": "code",
   "execution_count": 46,
   "metadata": {},
   "outputs": [],
   "source": [
    "pod_by_threshold = numpy.array([1.] + POD.tolist() + [0.])\n",
    "pofd_by_threshold = numpy.array([1.] + FAR.tolist() + [0.])"
   ]
  },
  {
   "cell_type": "code",
   "execution_count": 47,
   "metadata": {
    "collapsed": true
   },
   "outputs": [
    {
     "data": {
      "text/plain": [
       "(0.0, 1.0)"
      ]
     },
     "execution_count": 47,
     "metadata": {},
     "output_type": "execute_result"
    },
    {
     "data": {
      "image/png": "[encoded data removed]",
      "text/plain": [
       "<Figure size 720x720 with 1 Axes>"
      ]
     },
     "metadata": {
      "needs_background": "light"
     },
     "output_type": "display_data"
    }
   ],
   "source": [
    "random_x_coords = numpy.array([0., 1.])\n",
    "random_y_coords = numpy.array([0., 1.])\n",
    "\n",
    "axes_object = None\n",
    "if axes_object is None:\n",
    "    _, axes_object = pyplot.subplots(\n",
    "        1, 1, figsize=(FIGURE_WIDTH_INCHES, FIGURE_HEIGHT_INCHES)\n",
    "    )\n",
    "\n",
    "nan_flags = numpy.logical_or(\n",
    "    numpy.isnan(pofd_by_threshold), numpy.isnan(pod_by_threshold)\n",
    ")\n",
    "\n",
    "if not numpy.all(nan_flags):\n",
    "    real_indices = numpy.where(numpy.invert(nan_flags))[0]\n",
    "    axes_object.plot(\n",
    "        pofd_by_threshold[real_indices], pod_by_threshold[real_indices],\n",
    "        color=DEFAULT_LINE_COLOUR, linestyle='solid', linewidth=DEFAULT_RANDOM_LINE_WIDTH)\n",
    "\n",
    "axes_object.set_xlabel('POFD (probability of false detection)')\n",
    "axes_object.set_ylabel('POD (probability of detection)')\n",
    "axes_object.set_xlim(0., 1.)\n",
    "axes_object.set_ylim(0., 1.) "
   ]
  },
  {
   "cell_type": "code",
   "execution_count": 50,
   "metadata": {
    "collapsed": true
   },
   "outputs": [
    {
     "ename": "IndexError",
     "evalue": "too many indices for array",
     "output_type": "error",
     "traceback": [
      "\u001b[1;31m---------------------------------------------------------------------------\u001b[0m",
      "\u001b[1;31mIndexError\u001b[0m                                Traceback (most recent call last)",
      "\u001b[1;32m<ipython-input-50-97f40c2c8c88>\u001b[0m in \u001b[0;36m<module>\u001b[1;34m\u001b[0m\n\u001b[1;32m----> 1\u001b[1;33m \u001b[0m_\u001b[0m \u001b[1;33m=\u001b[0m \u001b[0mplot_ROC_Curve\u001b[0m\u001b[1;33m(\u001b[0m\u001b[1;36m2\u001b[0m\u001b[1;33m,\u001b[0m \u001b[0mT_1600\u001b[0m\u001b[1;33m,\u001b[0m \u001b[0mHREF12_1600\u001b[0m\u001b[1;33m)\u001b[0m\u001b[1;33m\u001b[0m\u001b[1;33m\u001b[0m\u001b[0m\n\u001b[0m",
      "\u001b[1;32m<ipython-input-49-752ae80031b0>\u001b[0m in \u001b[0;36mplot_ROC_Curve\u001b[1;34m(n_classes, y, y_pred)\u001b[0m\n\u001b[0;32m      6\u001b[0m     \u001b[0mroc_auc\u001b[0m \u001b[1;33m=\u001b[0m \u001b[0mdict\u001b[0m\u001b[1;33m(\u001b[0m\u001b[1;33m)\u001b[0m\u001b[1;33m\u001b[0m\u001b[1;33m\u001b[0m\u001b[0m\n\u001b[0;32m      7\u001b[0m     \u001b[1;32mfor\u001b[0m \u001b[0mi\u001b[0m \u001b[1;32min\u001b[0m \u001b[0mrange\u001b[0m\u001b[1;33m(\u001b[0m\u001b[0mn_classes\u001b[0m\u001b[1;33m)\u001b[0m\u001b[1;33m:\u001b[0m\u001b[1;33m\u001b[0m\u001b[1;33m\u001b[0m\u001b[0m\n\u001b[1;32m----> 8\u001b[1;33m         \u001b[0mfpr\u001b[0m\u001b[1;33m[\u001b[0m\u001b[0mi\u001b[0m\u001b[1;33m]\u001b[0m\u001b[1;33m,\u001b[0m \u001b[0mtpr\u001b[0m\u001b[1;33m[\u001b[0m\u001b[0mi\u001b[0m\u001b[1;33m]\u001b[0m\u001b[1;33m,\u001b[0m \u001b[0m_\u001b[0m \u001b[1;33m=\u001b[0m \u001b[0mroc_curve\u001b[0m\u001b[1;33m(\u001b[0m\u001b[0my\u001b[0m\u001b[1;33m[\u001b[0m\u001b[1;33m:\u001b[0m\u001b[1;33m,\u001b[0m \u001b[0mi\u001b[0m\u001b[1;33m]\u001b[0m\u001b[1;33m,\u001b[0m \u001b[0my_pred\u001b[0m\u001b[1;33m[\u001b[0m\u001b[1;33m:\u001b[0m\u001b[1;33m,\u001b[0m \u001b[0mi\u001b[0m\u001b[1;33m]\u001b[0m\u001b[1;33m)\u001b[0m\u001b[1;33m\u001b[0m\u001b[1;33m\u001b[0m\u001b[0m\n\u001b[0m\u001b[0;32m      9\u001b[0m         \u001b[0mroc_auc\u001b[0m\u001b[1;33m[\u001b[0m\u001b[0mi\u001b[0m\u001b[1;33m]\u001b[0m \u001b[1;33m=\u001b[0m \u001b[0mauc\u001b[0m\u001b[1;33m(\u001b[0m\u001b[0mfpr\u001b[0m\u001b[1;33m[\u001b[0m\u001b[0mi\u001b[0m\u001b[1;33m]\u001b[0m\u001b[1;33m,\u001b[0m \u001b[0mtpr\u001b[0m\u001b[1;33m[\u001b[0m\u001b[0mi\u001b[0m\u001b[1;33m]\u001b[0m\u001b[1;33m)\u001b[0m\u001b[1;33m\u001b[0m\u001b[1;33m\u001b[0m\u001b[0m\n\u001b[0;32m     10\u001b[0m     \u001b[0mcolors\u001b[0m \u001b[1;33m=\u001b[0m \u001b[1;33m(\u001b[0m\u001b[1;33m[\u001b[0m\u001b[1;34m'm'\u001b[0m\u001b[1;33m,\u001b[0m \u001b[1;34m'darkblue'\u001b[0m\u001b[1;33m,\u001b[0m \u001b[1;34m'coral'\u001b[0m\u001b[1;33m]\u001b[0m\u001b[1;33m)\u001b[0m\u001b[1;33m\u001b[0m\u001b[1;33m\u001b[0m\u001b[0m\n",
      "\u001b[1;31mIndexError\u001b[0m: too many indices for array"
     ]
    },
    {
     "data": {
      "text/plain": [
       "<Figure size 720x720 with 0 Axes>"
      ]
     },
     "metadata": {},
     "output_type": "display_data"
    }
   ],
   "source": [
    "_ = plot_ROC_Curve(2, T_1600, HREF12_1600) "
   ]
  },
  {
   "cell_type": "markdown",
   "metadata": {},
   "source": [
    "## Reading the Training probs"
   ]
  },
  {
   "cell_type": "code",
   "execution_count": 11,
   "metadata": {},
   "outputs": [],
   "source": [
    "dir6 = './6HOURS/C38C0/'\n",
    "file_name = 'VIS_Prob_TRAIN.csv'\n",
    "\n",
    "Tr6C0 = pandas.read_csv(dir6 + file_name, header = 0) \n",
    "Tr6C0Target = pandas.read_csv('./Tr6C0Target.csv', header = None) "
   ]
  },
  {
   "cell_type": "code",
   "execution_count": 12,
   "metadata": {},
   "outputs": [
    {
     "data": {
      "text/plain": [
       "(5460,)"
      ]
     },
     "execution_count": 12,
     "metadata": {},
     "output_type": "execute_result"
    }
   ],
   "source": [
    "Tr6C0Target  = Tr6C0Target.to_numpy().ravel()\n",
    "Tr6C0Target.shape"
   ]
  },
  {
   "cell_type": "code",
   "execution_count": 13,
   "metadata": {},
   "outputs": [],
   "source": [
    "Tr6C0 = Tr6C0.to_numpy()"
   ]
  },
  {
   "cell_type": "code",
   "execution_count": 14,
   "metadata": {},
   "outputs": [
    {
     "name": "stderr",
     "output_type": "stream",
     "text": [
      "C:\\Users\\hkamangir\\AppData\\Local\\Continuum\\anaconda3\\lib\\site-packages\\ipykernel_launcher.py:27: RuntimeWarning: invalid value encountered in longlong_scalars\n",
      "C:\\Users\\hkamangir\\AppData\\Local\\Continuum\\anaconda3\\lib\\site-packages\\ipykernel_launcher.py:39: RuntimeWarning: invalid value encountered in longlong_scalars\n",
      "C:\\Users\\hkamangir\\AppData\\Local\\Continuum\\anaconda3\\lib\\site-packages\\ipykernel_launcher.py:42: RuntimeWarning: invalid value encountered in longlong_scalars\n"
     ]
    },
    {
     "name": "stdout",
     "output_type": "stream",
     "text": [
      "The optima threshold is:  0.58\n",
      "POD  :  0.912621359223301\n",
      "F    :  0.005040134403584096\n",
      "FAR  :  0.2231404958677686\n",
      "CSI  :  0.7230769230769231\n",
      "PSS  :  0.9075812248197169\n",
      "HSS  :  0.8359421557547946\n",
      "ORSS :  0.9990304490856098\n",
      "CSS  :  0.775173795197974\n"
     ]
    }
   ],
   "source": [
    "accuray_list, result_list = skilled_metrics(Tr6C0Target, Tr6C0, 'HSS') "
   ]
  },
  {
   "cell_type": "code",
   "execution_count": 17,
   "metadata": {},
   "outputs": [
    {
     "name": "stdout",
     "output_type": "stream",
     "text": [
      "(1000,)\n",
      "(1000,)\n"
     ]
    }
   ],
   "source": [
    "POD = result_list[:, 0] \n",
    "print(POD.shape)\n",
    "FAR = result_list[:, 2] \n",
    "FAR = numpy.nan_to_num(FAR, nan = 1)\n",
    "print(FAR.shape) "
   ]
  },
  {
   "cell_type": "code",
   "execution_count": 24,
   "metadata": {},
   "outputs": [
    {
     "ename": "ValueError",
     "evalue": "x is neither increasing nor decreasing : [1.         0.         0.         0.         0.         0.\n 0.         0.         0.         0.         0.         0.\n 0.05882353 0.05555556 0.05555556 0.05263158 0.04761905 0.04761905\n 0.04761905 0.04761905 0.04761905 0.04545455 0.04545455 0.04347826\n 0.04347826 0.04347826 0.04166667 0.04166667 0.04166667 0.04\n 0.04       0.04       0.03846154 0.03846154 0.03846154 0.03846154\n 0.03846154 0.03846154 0.03703704 0.03703704 0.03703704 0.03703704\n 0.03703704 0.03703704 0.07142857 0.10344828 0.10344828 0.1\n 0.1        0.1        0.1        0.1        0.1        0.1\n 0.1        0.1        0.1        0.1        0.1        0.1\n 0.1        0.1        0.1        0.1        0.09677419 0.09677419\n 0.09677419 0.09375    0.09375    0.09375    0.09375    0.09375\n 0.09090909 0.09090909 0.09090909 0.09090909 0.08823529 0.08823529\n 0.08823529 0.08571429 0.08333333 0.07894737 0.07894737 0.07894737\n 0.07692308 0.07692308 0.1        0.1        0.12195122 0.12195122\n 0.12195122 0.12195122 0.12195122 0.12195122 0.11904762 0.13953488\n 0.13953488 0.13953488 0.13953488 0.13953488 0.13636364 0.13333333\n 0.13333333 0.13333333 0.13333333 0.13333333 0.13333333 0.13333333\n 0.13333333 0.13333333 0.13043478 0.13043478 0.125      0.125\n 0.125      0.125      0.125      0.125      0.125      0.125\n 0.125      0.12244898 0.12244898 0.12244898 0.12       0.12\n 0.12       0.12       0.12       0.12       0.12       0.12\n 0.12       0.12       0.1372549  0.1372549  0.1372549  0.1372549\n 0.1372549  0.1372549  0.13461538 0.13461538 0.13461538 0.13207547\n 0.13207547 0.13207547 0.13207547 0.13207547 0.13207547 0.13207547\n 0.13207547 0.13207547 0.13207547 0.13207547 0.13207547 0.13207547\n 0.12962963 0.12962963 0.12962963 0.12727273 0.125      0.125\n 0.125      0.125      0.12280702 0.12280702 0.12068966 0.12068966\n 0.12068966 0.12068966 0.12068966 0.12068966 0.12068966 0.12068966\n 0.12068966 0.12068966 0.12068966 0.12068966 0.12068966 0.12068966\n 0.11864407 0.11864407 0.11864407 0.11864407 0.11864407 0.11864407\n 0.11864407 0.11864407 0.11666667 0.11666667 0.11666667 0.11666667\n 0.11666667 0.1147541  0.1147541  0.1147541  0.12903226 0.12903226\n 0.12903226 0.12903226 0.12698413 0.12698413 0.12698413 0.12698413\n 0.12698413 0.12698413 0.12698413 0.12698413 0.12698413 0.12698413\n 0.12698413 0.12698413 0.12698413 0.12698413 0.12698413 0.125\n 0.125      0.125      0.12307692 0.12307692 0.12307692 0.12307692\n 0.12307692 0.12307692 0.12307692 0.13636364 0.13636364 0.14925373\n 0.16176471 0.16176471 0.16176471 0.16901408 0.16901408 0.16901408\n 0.16901408 0.16901408 0.16666667 0.16666667 0.16666667 0.16666667\n 0.16666667 0.16666667 0.16666667 0.16666667 0.17808219 0.17567568\n 0.18666667 0.18666667 0.18666667 0.18666667 0.18666667 0.18666667\n 0.18666667 0.18666667 0.18666667 0.18666667 0.18666667 0.18666667\n 0.18666667 0.18666667 0.18666667 0.18421053 0.18421053 0.18421053\n 0.18421053 0.18421053 0.18421053 0.18421053 0.18421053 0.17948718\n 0.17948718 0.17948718 0.17948718 0.17721519 0.175      0.175\n 0.17283951 0.17283951 0.17283951 0.17283951 0.17283951 0.17283951\n 0.17283951 0.17283951 0.17073171 0.17073171 0.17073171 0.1686747\n 0.1686747  0.1686747  0.1686747  0.1686747  0.1686747  0.1686747\n 0.1686747  0.1686747  0.1686747  0.16666667 0.1627907  0.1627907\n 0.1627907  0.1627907  0.1627907  0.1627907  0.1627907  0.1627907\n 0.1627907  0.1627907  0.1627907  0.1627907  0.1627907  0.1627907\n 0.1627907  0.1627907  0.1627907  0.1627907  0.16091954 0.16091954\n 0.16091954 0.16091954 0.16091954 0.16091954 0.15909091 0.15909091\n 0.15909091 0.15730337 0.15730337 0.15730337 0.15730337 0.15730337\n 0.15730337 0.15555556 0.15555556 0.15384615 0.15384615 0.15384615\n 0.15384615 0.15384615 0.15384615 0.15384615 0.15217391 0.15217391\n 0.15217391 0.15217391 0.15217391 0.15217391 0.16129032 0.16129032\n 0.16129032 0.16129032 0.16129032 0.16129032 0.16129032 0.16129032\n 0.16129032 0.16129032 0.16129032 0.16129032 0.15957447 0.15957447\n 0.15957447 0.15957447 0.15957447 0.15957447 0.15957447 0.15957447\n 0.15957447 0.16842105 0.16842105 0.16666667 0.16666667 0.16666667\n 0.16666667 0.16666667 0.16666667 0.16666667 0.16666667 0.16666667\n 0.16666667 0.16666667 0.16666667 0.16666667 0.16666667 0.16666667\n 0.16494845 0.16494845 0.16494845 0.16494845 0.16494845 0.16494845\n 0.16326531 0.16326531 0.16326531 0.16326531 0.16326531 0.17171717\n 0.17171717 0.17171717 0.17171717 0.17171717 0.17171717 0.17171717\n 0.17171717 0.17171717 0.17171717 0.17171717 0.17171717 0.17171717\n 0.17171717 0.17171717 0.17171717 0.17171717 0.18       0.18\n 0.18       0.18       0.18       0.18       0.18       0.18\n 0.18       0.18       0.18       0.18       0.18       0.18\n 0.18       0.18       0.17821782 0.17821782 0.17821782 0.18627451\n 0.18627451 0.18627451 0.18627451 0.18627451 0.18446602 0.18446602\n 0.18446602 0.18446602 0.18446602 0.18446602 0.19230769 0.19230769\n 0.19230769 0.19230769 0.19230769 0.19230769 0.19230769 0.19230769\n 0.19230769 0.19230769 0.19230769 0.19230769 0.2        0.2\n 0.2        0.2        0.2        0.2        0.20754717 0.20560748\n 0.20560748 0.20560748 0.20560748 0.20560748 0.20560748 0.20560748\n 0.20560748 0.20560748 0.20560748 0.20560748 0.20560748 0.20560748\n 0.20560748 0.20560748 0.20560748 0.20560748 0.20560748 0.20560748\n 0.20560748 0.20560748 0.20560748 0.20560748 0.2037037  0.21100917\n 0.21818182 0.21818182 0.21818182 0.21818182 0.21621622 0.21428571\n 0.21428571 0.21428571 0.21428571 0.21428571 0.21428571 0.21428571\n 0.21428571 0.21428571 0.21428571 0.21428571 0.21428571 0.21428571\n 0.21428571 0.21428571 0.21428571 0.22123894 0.22123894 0.21929825\n 0.21929825 0.21929825 0.21929825 0.21929825 0.21929825 0.21929825\n 0.21929825 0.21929825 0.21929825 0.21929825 0.21929825 0.21929825\n 0.21929825 0.21929825 0.21929825 0.21929825 0.21929825 0.21929825\n 0.21929825 0.21929825 0.21929825 0.21929825 0.21929825 0.21929825\n 0.21929825 0.21929825 0.21929825 0.21929825 0.21929825 0.21929825\n 0.21929825 0.21929825 0.21929825 0.21929825 0.21929825 0.21929825\n 0.2173913  0.21551724 0.21551724 0.21551724 0.21551724 0.21551724\n 0.21551724 0.21551724 0.21551724 0.21551724 0.21551724 0.21367521\n 0.21367521 0.21367521 0.21367521 0.21367521 0.21367521 0.21367521\n 0.22033898 0.22033898 0.22033898 0.22033898 0.22033898 0.22033898\n 0.22033898 0.22033898 0.22033898 0.22033898 0.22033898 0.22033898\n 0.21848739 0.2231405  0.2231405  0.2231405  0.2231405  0.2295082\n 0.23577236 0.23577236 0.23577236 0.23577236 0.24193548 0.24193548\n 0.24       0.24603175 0.24603175 0.24603175 0.24603175 0.24603175\n 0.24603175 0.24603175 0.24603175 0.24603175 0.24603175 0.2519685\n 0.2519685  0.2519685  0.2519685  0.2519685  0.2519685  0.2519685\n 0.2519685  0.2519685  0.2519685  0.2519685  0.2519685  0.2519685\n 0.2519685  0.2519685  0.2578125  0.2578125  0.2578125  0.2578125\n 0.26153846 0.26153846 0.26717557 0.26717557 0.26717557 0.26717557\n 0.26717557 0.26717557 0.26717557 0.26717557 0.26717557 0.26717557\n 0.26717557 0.26717557 0.27272727 0.27272727 0.27819549 0.28148148\n 0.28148148 0.28148148 0.28148148 0.28148148 0.28148148 0.28148148\n 0.28148148 0.28676471 0.28676471 0.2919708  0.2919708  0.2919708\n 0.2919708  0.29710145 0.29710145 0.29710145 0.29710145 0.29710145\n 0.29710145 0.29710145 0.29710145 0.29710145 0.29710145 0.29710145\n 0.29710145 0.30215827 0.30215827 0.30215827 0.30215827 0.30714286\n 0.30714286 0.30714286 0.30714286 0.30714286 0.30714286 0.30714286\n 0.30714286 0.30714286 0.31205674 0.31205674 0.31690141 0.31690141\n 0.31690141 0.31690141 0.31690141 0.31690141 0.31690141 0.31690141\n 0.31690141 0.31690141 0.31690141 0.31690141 0.31690141 0.31690141\n 0.31690141 0.31690141 0.32167832 0.32167832 0.32167832 0.32167832\n 0.32638889 0.32638889 0.32638889 0.32638889 0.32638889 0.32638889\n 0.32638889 0.32638889 0.32638889 0.32638889 0.32638889 0.33103448\n 0.33103448 0.33103448 0.33103448 0.33103448 0.32876712 0.32876712\n 0.32876712 0.32876712 0.32876712 0.32876712 0.32876712 0.32876712\n 0.32876712 0.32876712 0.32876712 0.32876712 0.33333333 0.33333333\n 0.33333333 0.33333333 0.33333333 0.33333333 0.33333333 0.33333333\n 0.33333333 0.33333333 0.33333333 0.34228188 0.34228188 0.34228188\n 0.34228188 0.34666667 0.35099338 0.35526316 0.35947712 0.35947712\n 0.36363636 0.36774194 0.36774194 0.37179487 0.37179487 0.37179487\n 0.37179487 0.37179487 0.37179487 0.37179487 0.37179487 0.37579618\n 0.37974684 0.38125    0.38509317 0.38509317 0.38888889 0.38888889\n 0.38888889 0.38888889 0.3902439  0.39393939 0.39393939 0.39393939\n 0.39393939 0.4047619  0.41176471 0.41176471 0.41520468 0.41520468\n 0.41860465 0.41860465 0.42196532 0.42196532 0.42196532 0.42196532\n 0.42196532 0.42528736 0.42528736 0.42285714 0.42613636 0.42613636\n 0.42613636 0.42613636 0.43575419 0.43575419 0.43575419 0.43888889\n 0.43888889 0.43888889 0.43888889 0.43888889 0.44198895 0.44198895\n 0.44198895 0.44198895 0.44505495 0.44505495 0.44505495 0.44505495\n 0.44505495 0.44808743 0.44808743 0.44565217 0.44864865 0.44864865\n 0.44864865 0.4516129  0.4516129  0.4516129  0.4516129  0.4516129\n 0.4516129  0.45454545 0.45454545 0.45454545 0.45454545 0.45454545\n 0.45454545 0.45454545 0.45454545 0.45454545 0.45454545 0.45744681\n 0.45744681 0.45744681 0.46031746 0.46031746 0.46031746 0.46315789\n 0.46315789 0.46315789 0.46596859 0.4742268  0.4742268  0.4742268\n 0.4742268  0.4742268  0.47959184 0.48484848 0.48484848 0.48484848\n 0.48484848 0.49       0.49       0.49       0.49       0.49253731\n 0.4950495  0.4950495  0.4950495  0.4950495  0.4950495  0.4950495\n 0.4950495  0.4950495  0.4950495  0.49753695 0.49753695 0.49753695\n 0.49753695 0.49753695 0.5        0.5        0.5        0.5\n 0.50243902 0.50485437 0.50724638 0.50724638 0.50961538 0.51196172\n 0.51196172 0.51196172 0.51196172 0.51196172 0.51196172 0.51196172\n 0.51196172 0.51196172 0.51196172 0.51428571 0.51428571 0.51428571\n 0.51428571 0.51886792 0.52112676 0.52112676 0.52336449 0.5255814\n 0.52777778 0.52777778 0.52995392 0.52995392 0.53211009 0.53636364\n 0.53846154 0.53846154 0.53846154 0.53846154 0.53846154 0.54054054\n 0.5426009  0.5426009  0.54867257 0.54867257 0.55066079 0.55263158\n 0.55844156 0.56034483 0.56410256 0.56410256 0.56410256 0.56410256\n 0.56410256 0.56779661 0.57142857 0.57322176 0.575      0.5785124\n 0.5785124  0.5785124  0.5785124  0.58024691 0.58367347 0.58704453\n 0.58870968 0.59036145 0.5936255  0.5984252  0.6        0.6\n 0.6015625  0.60465116 0.60769231 0.60769231 0.6091954  0.61068702\n 0.61363636 0.61654135 0.61654135 0.62081784 0.62222222 0.62361624\n 0.62909091 0.6344086  0.63701068 0.63957597 0.64210526 0.64705882\n 0.65068493 0.65306122 0.65423729 0.65886288 0.66112957 0.66557377\n 0.66666667 0.67096774 0.67412141 0.67515924 0.67619048 0.68025078\n 0.68224299 0.68518519 0.68807339 0.6899696  0.69277108 0.69552239\n 0.7        0.70262391 0.70434783 0.71104816 0.71745152 0.72131148\n 0.72506739 0.73157895 0.73643411 0.73791349 0.74055416 0.74630542\n 0.75240385 0.75707547 0.76212471 0.76696833 0.77161863 0.7803838\n 0.78850103 0.79764244 0.80602637 0.81100917 0.8180212  0.83087028\n 0.84055728 0.85285714 0.86743887 0.88924731].",
     "output_type": "error",
     "traceback": [
      "\u001b[1;31m---------------------------------------------------------------------------\u001b[0m",
      "\u001b[1;31mValueError\u001b[0m                                Traceback (most recent call last)",
      "\u001b[1;32m<ipython-input-24-702d335df5f2>\u001b[0m in \u001b[0;36m<module>\u001b[1;34m\u001b[0m\n\u001b[1;32m----> 1\u001b[1;33m \u001b[0mRoc_Auc\u001b[0m \u001b[1;33m=\u001b[0m \u001b[0mauc\u001b[0m\u001b[1;33m(\u001b[0m\u001b[0mFAR\u001b[0m\u001b[1;33m,\u001b[0m \u001b[0mPOD\u001b[0m\u001b[1;33m)\u001b[0m\u001b[1;33m\u001b[0m\u001b[1;33m\u001b[0m\u001b[0m\n\u001b[0m\u001b[0;32m      2\u001b[0m \u001b[0m_\u001b[0m \u001b[1;33m=\u001b[0m \u001b[0mROC_Curve_Plot\u001b[0m\u001b[1;33m(\u001b[0m\u001b[0mFAR\u001b[0m\u001b[1;33m,\u001b[0m \u001b[0mPOD\u001b[0m\u001b[1;33m,\u001b[0m \u001b[0mRoc_Auc\u001b[0m\u001b[1;33m)\u001b[0m\u001b[1;33m\u001b[0m\u001b[1;33m\u001b[0m\u001b[0m\n",
      "\u001b[1;32m~\\AppData\\Local\\Continuum\\anaconda3\\lib\\site-packages\\sklearn\\metrics\\_ranking.py\u001b[0m in \u001b[0;36mauc\u001b[1;34m(x, y)\u001b[0m\n\u001b[0;32m     92\u001b[0m         \u001b[1;32melse\u001b[0m\u001b[1;33m:\u001b[0m\u001b[1;33m\u001b[0m\u001b[1;33m\u001b[0m\u001b[0m\n\u001b[0;32m     93\u001b[0m             raise ValueError(\"x is neither increasing nor decreasing \"\n\u001b[1;32m---> 94\u001b[1;33m                              \": {}.\".format(x))\n\u001b[0m\u001b[0;32m     95\u001b[0m \u001b[1;33m\u001b[0m\u001b[0m\n\u001b[0;32m     96\u001b[0m     \u001b[0marea\u001b[0m \u001b[1;33m=\u001b[0m \u001b[0mdirection\u001b[0m \u001b[1;33m*\u001b[0m \u001b[0mnp\u001b[0m\u001b[1;33m.\u001b[0m\u001b[0mtrapz\u001b[0m\u001b[1;33m(\u001b[0m\u001b[0my\u001b[0m\u001b[1;33m,\u001b[0m \u001b[0mx\u001b[0m\u001b[1;33m)\u001b[0m\u001b[1;33m\u001b[0m\u001b[1;33m\u001b[0m\u001b[0m\n",
      "\u001b[1;31mValueError\u001b[0m: x is neither increasing nor decreasing : [1.         0.         0.         0.         0.         0.\n 0.         0.         0.         0.         0.         0.\n 0.05882353 0.05555556 0.05555556 0.05263158 0.04761905 0.04761905\n 0.04761905 0.04761905 0.04761905 0.04545455 0.04545455 0.04347826\n 0.04347826 0.04347826 0.04166667 0.04166667 0.04166667 0.04\n 0.04       0.04       0.03846154 0.03846154 0.03846154 0.03846154\n 0.03846154 0.03846154 0.03703704 0.03703704 0.03703704 0.03703704\n 0.03703704 0.03703704 0.07142857 0.10344828 0.10344828 0.1\n 0.1        0.1        0.1        0.1        0.1        0.1\n 0.1        0.1        0.1        0.1        0.1        0.1\n 0.1        0.1        0.1        0.1        0.09677419 0.09677419\n 0.09677419 0.09375    0.09375    0.09375    0.09375    0.09375\n 0.09090909 0.09090909 0.09090909 0.09090909 0.08823529 0.08823529\n 0.08823529 0.08571429 0.08333333 0.07894737 0.07894737 0.07894737\n 0.07692308 0.07692308 0.1        0.1        0.12195122 0.12195122\n 0.12195122 0.12195122 0.12195122 0.12195122 0.11904762 0.13953488\n 0.13953488 0.13953488 0.13953488 0.13953488 0.13636364 0.13333333\n 0.13333333 0.13333333 0.13333333 0.13333333 0.13333333 0.13333333\n 0.13333333 0.13333333 0.13043478 0.13043478 0.125      0.125\n 0.125      0.125      0.125      0.125      0.125      0.125\n 0.125      0.12244898 0.12244898 0.12244898 0.12       0.12\n 0.12       0.12       0.12       0.12       0.12       0.12\n 0.12       0.12       0.1372549  0.1372549  0.1372549  0.1372549\n 0.1372549  0.1372549  0.13461538 0.13461538 0.13461538 0.13207547\n 0.13207547 0.13207547 0.13207547 0.13207547 0.13207547 0.13207547\n 0.13207547 0.13207547 0.13207547 0.13207547 0.13207547 0.13207547\n 0.12962963 0.12962963 0.12962963 0.12727273 0.125      0.125\n 0.125      0.125      0.12280702 0.12280702 0.12068966 0.12068966\n 0.12068966 0.12068966 0.12068966 0.12068966 0.12068966 0.12068966\n 0.12068966 0.12068966 0.12068966 0.12068966 0.12068966 0.12068966\n 0.11864407 0.11864407 0.11864407 0.11864407 0.11864407 0.11864407\n 0.11864407 0.11864407 0.11666667 0.11666667 0.11666667 0.11666667\n 0.11666667 0.1147541  0.1147541  0.1147541  0.12903226 0.12903226\n 0.12903226 0.12903226 0.12698413 0.12698413 0.12698413 0.12698413\n 0.12698413 0.12698413 0.12698413 0.12698413 0.12698413 0.12698413\n 0.12698413 0.12698413 0.12698413 0.12698413 0.12698413 0.125\n 0.125      0.125      0.12307692 0.12307692 0.12307692 0.12307692\n 0.12307692 0.12307692 0.12307692 0.13636364 0.13636364 0.14925373\n 0.16176471 0.16176471 0.16176471 0.16901408 0.16901408 0.16901408\n 0.16901408 0.16901408 0.16666667 0.16666667 0.16666667 0.16666667\n 0.16666667 0.16666667 0.16666667 0.16666667 0.17808219 0.17567568\n 0.18666667 0.18666667 0.18666667 0.18666667 0.18666667 0.18666667\n 0.18666667 0.18666667 0.18666667 0.18666667 0.18666667 0.18666667\n 0.18666667 0.18666667 0.18666667 0.18421053 0.18421053 0.18421053\n 0.18421053 0.18421053 0.18421053 0.18421053 0.18421053 0.17948718\n 0.17948718 0.17948718 0.17948718 0.17721519 0.175      0.175\n 0.17283951 0.17283951 0.17283951 0.17283951 0.17283951 0.17283951\n 0.17283951 0.17283951 0.17073171 0.17073171 0.17073171 0.1686747\n 0.1686747  0.1686747  0.1686747  0.1686747  0.1686747  0.1686747\n 0.1686747  0.1686747  0.1686747  0.16666667 0.1627907  0.1627907\n 0.1627907  0.1627907  0.1627907  0.1627907  0.1627907  0.1627907\n 0.1627907  0.1627907  0.1627907  0.1627907  0.1627907  0.1627907\n 0.1627907  0.1627907  0.1627907  0.1627907  0.16091954 0.16091954\n 0.16091954 0.16091954 0.16091954 0.16091954 0.15909091 0.15909091\n 0.15909091 0.15730337 0.15730337 0.15730337 0.15730337 0.15730337\n 0.15730337 0.15555556 0.15555556 0.15384615 0.15384615 0.15384615\n 0.15384615 0.15384615 0.15384615 0.15384615 0.15217391 0.15217391\n 0.15217391 0.15217391 0.15217391 0.15217391 0.16129032 0.16129032\n 0.16129032 0.16129032 0.16129032 0.16129032 0.16129032 0.16129032\n 0.16129032 0.16129032 0.16129032 0.16129032 0.15957447 0.15957447\n 0.15957447 0.15957447 0.15957447 0.15957447 0.15957447 0.15957447\n 0.15957447 0.16842105 0.16842105 0.16666667 0.16666667 0.16666667\n 0.16666667 0.16666667 0.16666667 0.16666667 0.16666667 0.16666667\n 0.16666667 0.16666667 0.16666667 0.16666667 0.16666667 0.16666667\n 0.16494845 0.16494845 0.16494845 0.16494845 0.16494845 0.16494845\n 0.16326531 0.16326531 0.16326531 0.16326531 0.16326531 0.17171717\n 0.17171717 0.17171717 0.17171717 0.17171717 0.17171717 0.17171717\n 0.17171717 0.17171717 0.17171717 0.17171717 0.17171717 0.17171717\n 0.17171717 0.17171717 0.17171717 0.17171717 0.18       0.18\n 0.18       0.18       0.18       0.18       0.18       0.18\n 0.18       0.18       0.18       0.18       0.18       0.18\n 0.18       0.18       0.17821782 0.17821782 0.17821782 0.18627451\n 0.18627451 0.18627451 0.18627451 0.18627451 0.18446602 0.18446602\n 0.18446602 0.18446602 0.18446602 0.18446602 0.19230769 0.19230769\n 0.19230769 0.19230769 0.19230769 0.19230769 0.19230769 0.19230769\n 0.19230769 0.19230769 0.19230769 0.19230769 0.2        0.2\n 0.2        0.2        0.2        0.2        0.20754717 0.20560748\n 0.20560748 0.20560748 0.20560748 0.20560748 0.20560748 0.20560748\n 0.20560748 0.20560748 0.20560748 0.20560748 0.20560748 0.20560748\n 0.20560748 0.20560748 0.20560748 0.20560748 0.20560748 0.20560748\n 0.20560748 0.20560748 0.20560748 0.20560748 0.2037037  0.21100917\n 0.21818182 0.21818182 0.21818182 0.21818182 0.21621622 0.21428571\n 0.21428571 0.21428571 0.21428571 0.21428571 0.21428571 0.21428571\n 0.21428571 0.21428571 0.21428571 0.21428571 0.21428571 0.21428571\n 0.21428571 0.21428571 0.21428571 0.22123894 0.22123894 0.21929825\n 0.21929825 0.21929825 0.21929825 0.21929825 0.21929825 0.21929825\n 0.21929825 0.21929825 0.21929825 0.21929825 0.21929825 0.21929825\n 0.21929825 0.21929825 0.21929825 0.21929825 0.21929825 0.21929825\n 0.21929825 0.21929825 0.21929825 0.21929825 0.21929825 0.21929825\n 0.21929825 0.21929825 0.21929825 0.21929825 0.21929825 0.21929825\n 0.21929825 0.21929825 0.21929825 0.21929825 0.21929825 0.21929825\n 0.2173913  0.21551724 0.21551724 0.21551724 0.21551724 0.21551724\n 0.21551724 0.21551724 0.21551724 0.21551724 0.21551724 0.21367521\n 0.21367521 0.21367521 0.21367521 0.21367521 0.21367521 0.21367521\n 0.22033898 0.22033898 0.22033898 0.22033898 0.22033898 0.22033898\n 0.22033898 0.22033898 0.22033898 0.22033898 0.22033898 0.22033898\n 0.21848739 0.2231405  0.2231405  0.2231405  0.2231405  0.2295082\n 0.23577236 0.23577236 0.23577236 0.23577236 0.24193548 0.24193548\n 0.24       0.24603175 0.24603175 0.24603175 0.24603175 0.24603175\n 0.24603175 0.24603175 0.24603175 0.24603175 0.24603175 0.2519685\n 0.2519685  0.2519685  0.2519685  0.2519685  0.2519685  0.2519685\n 0.2519685  0.2519685  0.2519685  0.2519685  0.2519685  0.2519685\n 0.2519685  0.2519685  0.2578125  0.2578125  0.2578125  0.2578125\n 0.26153846 0.26153846 0.26717557 0.26717557 0.26717557 0.26717557\n 0.26717557 0.26717557 0.26717557 0.26717557 0.26717557 0.26717557\n 0.26717557 0.26717557 0.27272727 0.27272727 0.27819549 0.28148148\n 0.28148148 0.28148148 0.28148148 0.28148148 0.28148148 0.28148148\n 0.28148148 0.28676471 0.28676471 0.2919708  0.2919708  0.2919708\n 0.2919708  0.29710145 0.29710145 0.29710145 0.29710145 0.29710145\n 0.29710145 0.29710145 0.29710145 0.29710145 0.29710145 0.29710145\n 0.29710145 0.30215827 0.30215827 0.30215827 0.30215827 0.30714286\n 0.30714286 0.30714286 0.30714286 0.30714286 0.30714286 0.30714286\n 0.30714286 0.30714286 0.31205674 0.31205674 0.31690141 0.31690141\n 0.31690141 0.31690141 0.31690141 0.31690141 0.31690141 0.31690141\n 0.31690141 0.31690141 0.31690141 0.31690141 0.31690141 0.31690141\n 0.31690141 0.31690141 0.32167832 0.32167832 0.32167832 0.32167832\n 0.32638889 0.32638889 0.32638889 0.32638889 0.32638889 0.32638889\n 0.32638889 0.32638889 0.32638889 0.32638889 0.32638889 0.33103448\n 0.33103448 0.33103448 0.33103448 0.33103448 0.32876712 0.32876712\n 0.32876712 0.32876712 0.32876712 0.32876712 0.32876712 0.32876712\n 0.32876712 0.32876712 0.32876712 0.32876712 0.33333333 0.33333333\n 0.33333333 0.33333333 0.33333333 0.33333333 0.33333333 0.33333333\n 0.33333333 0.33333333 0.33333333 0.34228188 0.34228188 0.34228188\n 0.34228188 0.34666667 0.35099338 0.35526316 0.35947712 0.35947712\n 0.36363636 0.36774194 0.36774194 0.37179487 0.37179487 0.37179487\n 0.37179487 0.37179487 0.37179487 0.37179487 0.37179487 0.37579618\n 0.37974684 0.38125    0.38509317 0.38509317 0.38888889 0.38888889\n 0.38888889 0.38888889 0.3902439  0.39393939 0.39393939 0.39393939\n 0.39393939 0.4047619  0.41176471 0.41176471 0.41520468 0.41520468\n 0.41860465 0.41860465 0.42196532 0.42196532 0.42196532 0.42196532\n 0.42196532 0.42528736 0.42528736 0.42285714 0.42613636 0.42613636\n 0.42613636 0.42613636 0.43575419 0.43575419 0.43575419 0.43888889\n 0.43888889 0.43888889 0.43888889 0.43888889 0.44198895 0.44198895\n 0.44198895 0.44198895 0.44505495 0.44505495 0.44505495 0.44505495\n 0.44505495 0.44808743 0.44808743 0.44565217 0.44864865 0.44864865\n 0.44864865 0.4516129  0.4516129  0.4516129  0.4516129  0.4516129\n 0.4516129  0.45454545 0.45454545 0.45454545 0.45454545 0.45454545\n 0.45454545 0.45454545 0.45454545 0.45454545 0.45454545 0.45744681\n 0.45744681 0.45744681 0.46031746 0.46031746 0.46031746 0.46315789\n 0.46315789 0.46315789 0.46596859 0.4742268  0.4742268  0.4742268\n 0.4742268  0.4742268  0.47959184 0.48484848 0.48484848 0.48484848\n 0.48484848 0.49       0.49       0.49       0.49       0.49253731\n 0.4950495  0.4950495  0.4950495  0.4950495  0.4950495  0.4950495\n 0.4950495  0.4950495  0.4950495  0.49753695 0.49753695 0.49753695\n 0.49753695 0.49753695 0.5        0.5        0.5        0.5\n 0.50243902 0.50485437 0.50724638 0.50724638 0.50961538 0.51196172\n 0.51196172 0.51196172 0.51196172 0.51196172 0.51196172 0.51196172\n 0.51196172 0.51196172 0.51196172 0.51428571 0.51428571 0.51428571\n 0.51428571 0.51886792 0.52112676 0.52112676 0.52336449 0.5255814\n 0.52777778 0.52777778 0.52995392 0.52995392 0.53211009 0.53636364\n 0.53846154 0.53846154 0.53846154 0.53846154 0.53846154 0.54054054\n 0.5426009  0.5426009  0.54867257 0.54867257 0.55066079 0.55263158\n 0.55844156 0.56034483 0.56410256 0.56410256 0.56410256 0.56410256\n 0.56410256 0.56779661 0.57142857 0.57322176 0.575      0.5785124\n 0.5785124  0.5785124  0.5785124  0.58024691 0.58367347 0.58704453\n 0.58870968 0.59036145 0.5936255  0.5984252  0.6        0.6\n 0.6015625  0.60465116 0.60769231 0.60769231 0.6091954  0.61068702\n 0.61363636 0.61654135 0.61654135 0.62081784 0.62222222 0.62361624\n 0.62909091 0.6344086  0.63701068 0.63957597 0.64210526 0.64705882\n 0.65068493 0.65306122 0.65423729 0.65886288 0.66112957 0.66557377\n 0.66666667 0.67096774 0.67412141 0.67515924 0.67619048 0.68025078\n 0.68224299 0.68518519 0.68807339 0.6899696  0.69277108 0.69552239\n 0.7        0.70262391 0.70434783 0.71104816 0.71745152 0.72131148\n 0.72506739 0.73157895 0.73643411 0.73791349 0.74055416 0.74630542\n 0.75240385 0.75707547 0.76212471 0.76696833 0.77161863 0.7803838\n 0.78850103 0.79764244 0.80602637 0.81100917 0.8180212  0.83087028\n 0.84055728 0.85285714 0.86743887 0.88924731]."
     ]
    }
   ],
   "source": [
    "Roc_Auc = auc(FAR, POD)\n",
    "_ = ROC_Curve_Plot(FAR, POD, Roc_Auc)"
   ]
  },
  {
   "cell_type": "code",
   "execution_count": 20,
   "metadata": {},
   "outputs": [],
   "source": [
    "def ROC_Curve_Plot(FAR, POD, Roc_Auc): \n",
    "    plt.figure(figsize = (10, 10))\n",
    "\n",
    "    axes_object = None\n",
    "    if axes_object is None:\n",
    "        _, axes_object = plt.subplots(\n",
    "            1, 1, figsize=(FIGURE_WIDTH_INCHES, FIGURE_HEIGHT_INCHES)\n",
    "        )\n",
    "\n",
    "    far_matrix, pod_matrix = _get_far_pod_grid()\n",
    "    score_matrix = pod_matrix - far_matrix\n",
    "\n",
    "    #colour_map_object, colour_norm_object = _get_colour_scheme()\n",
    "    #plt.contourf(\n",
    "     #   far_matrix, pod_matrix, score_matrix,\n",
    "     #   LEVELS_FOR_CONTOURS, cmap=colour_map_object,\n",
    "     #   norm=colour_norm_object, vmin=0., vmax=1., axes=axes_object)\n",
    "\n",
    "    plt.plot(FAR, POD, linewidth=2, color = 'red')\n",
    "    plt.plot([0, 1], [0, 1], 'k--')\n",
    "\n",
    "\n",
    "    plt.xlim([-0.005, 1.0])\n",
    "    plt.ylim([0.0, 1.005])\n",
    "    plt.xlabel('FAR (probability of false detection)',  fontsize=20)\n",
    "    plt.ylabel('POD (probability of detection)', fontsize=20)\n",
    "    title_string = 'ROC curve (AUC = {0:.3f})'.format(Roc_Auc)\n",
    "    plt.title(title_string, fontsize=20)\n"
   ]
  },
  {
   "cell_type": "code",
   "execution_count": 21,
   "metadata": {},
   "outputs": [],
   "source": [
    "DEFAULT_LINE_COLOUR = numpy.array([228, 26, 28], dtype=float) / 255\n",
    "DEFAULT_LINE_WIDTH = 3\n",
    "DEFAULT_RANDOM_LINE_COLOUR = numpy.full(3, 152. / 255)\n",
    "DEFAULT_RANDOM_LINE_WIDTH = 2\n",
    "\n",
    "LEVELS_FOR_CONTOURS = numpy.linspace(0, 1, num=11, dtype=float)\n",
    "\n",
    "FIGURE_WIDTH_INCHES = 10\n",
    "FIGURE_HEIGHT_INCHES = 10\n",
    "\n",
    "FONT_SIZE = 20\n",
    "plt.rc('font', size=FONT_SIZE)\n",
    "plt.rc('axes', titlesize=FONT_SIZE)\n",
    "plt.rc('axes', labelsize=FONT_SIZE)\n",
    "plt.rc('xtick', labelsize=FONT_SIZE)\n",
    "plt.rc('ytick', labelsize=FONT_SIZE)\n",
    "plt.rc('legend', fontsize=FONT_SIZE)\n",
    "plt.rc('figure', titlesize=FONT_SIZE)"
   ]
  },
  {
   "cell_type": "code",
   "execution_count": 23,
   "metadata": {},
   "outputs": [],
   "source": [
    "import matplotlib\n",
    "def _get_colour_scheme():\n",
    "    \"\"\"Returns colour scheme for Peirce score.\n",
    "\n",
    "    :return: colour_map_object: Colour scheme (instance of\n",
    "        `matplotlib.colors.ListedColormap`).\n",
    "    :return: colour_norm_object: Instance of `matplotlib.colors.BoundaryNorm`,\n",
    "        defining the scale of the colour map.\n",
    "    \"\"\"\n",
    "\n",
    "    this_colour_map_object = plt.cm.Greys\n",
    "    this_colour_norm_object = matplotlib.colors.BoundaryNorm(\n",
    "        LEVELS_FOR_CONTOURS, this_colour_map_object.N)\n",
    "\n",
    "    rgba_matrix = this_colour_map_object(this_colour_norm_object(\n",
    "        LEVELS_FOR_CONTOURS\n",
    "    ))\n",
    "\n",
    "    colour_list = [\n",
    "        rgba_matrix[i, ..., :-1] for i in range(rgba_matrix.shape[0])\n",
    "    ]\n",
    "\n",
    "    colour_map_object = matplotlib.colors.ListedColormap(colour_list)\n",
    "    colour_map_object.set_under(numpy.array([1, 1, 1]))\n",
    "    colour_norm_object = matplotlib.colors.BoundaryNorm(\n",
    "        LEVELS_FOR_CONTOURS, colour_map_object.N)\n",
    "\n",
    "    return colour_map_object, colour_norm_object"
   ]
  },
  {
   "cell_type": "code",
   "execution_count": 22,
   "metadata": {},
   "outputs": [],
   "source": [
    "def _get_far_pod_grid(far_spacing=0.01, pod_spacing=0.01):\n",
    "    \"\"\"Creates grid in POFD-POD space.\n",
    "\n",
    "    M = number of rows (unique POD values) in grid\n",
    "    N = number of columns (unique POFD values) in grid\n",
    "\n",
    "    :param pofd_spacing: Spacing between grid cells in adjacent columns.\n",
    "    :param pod_spacing: Spacing between grid cells in adjacent rows.\n",
    "    :return: pofd_matrix: M-by-N numpy array of POFD values.\n",
    "    :return: pod_matrix: M-by-N numpy array of POD values.\n",
    "    \"\"\"\n",
    "\n",
    "    num_far_values = 1 + int(numpy.ceil(1. / far_spacing))\n",
    "    num_pod_values = 1 + int(numpy.ceil(1. / pod_spacing))\n",
    "\n",
    "    unique_far_values = numpy.linspace(0., 1., num=num_far_values)\n",
    "    unique_pod_values = numpy.linspace(0., 1., num=num_pod_values)[::-1]\n",
    "    return numpy.meshgrid(unique_far_values, unique_pod_values)"
   ]
  },
  {
   "cell_type": "code",
   "execution_count": null,
   "metadata": {},
   "outputs": [],
   "source": []
  }
 ],
 "metadata": {
  "kernelspec": {
   "display_name": "Python 3",
   "language": "python",
   "name": "python3"
  },
  "language_info": {
   "codemirror_mode": {
    "name": "ipython",
    "version": 3
   },
   "file_extension": ".py",
   "mimetype": "text/x-python",
   "name": "python",
   "nbconvert_exporter": "python",
   "pygments_lexer": "ipython3",
   "version": "3.7.3"
  }
 },
 "nbformat": 4,
 "nbformat_minor": 2
}
