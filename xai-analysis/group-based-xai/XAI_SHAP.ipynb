{
 "cells": [
  {
   "cell_type": "code",
   "execution_count": 3,
   "metadata": {},
   "outputs": [],
   "source": [
    "%load_ext autoreload\n",
    "%autoreload 2"
   ]
  },
  {
   "cell_type": "code",
   "execution_count": 4,
   "metadata": {},
   "outputs": [],
   "source": [
    "import warnings\n",
    "warnings.filterwarnings('ignore')"
   ]
  },
  {
   "cell_type": "code",
   "execution_count": 9,
   "metadata": {},
   "outputs": [],
   "source": [
    "import pandas as pd\n",
    "import numpy as np\n",
    "import os\n",
    "import os.path \n",
    "import matplotlib.pyplot as plt\n",
    "import matplotlib.colors\n",
    "import copy\n",
    "import errno\n",
    "import glob\n",
    "import time\n",
    "import calendar\n",
    "import json\n",
    "import pickle\n",
    "import random\n",
    "import netCDF4\n",
    "from numpy import savez_compressed\n",
    "from optparse import OptionParser\n",
    "from scipy.interpolate import (UnivariateSpline, RectBivariateSpline, RegularGridInterpolator)\n",
    "from sklearn.metrics import confusion_matrix"
   ]
  },
  {
   "cell_type": "code",
   "execution_count": 48,
   "metadata": {},
   "outputs": [
    {
     "name": "stdout",
     "output_type": "stream",
     "text": [
      "G60\n",
      "(2228, 2)\n"
     ]
    }
   ],
   "source": [
    "csv_files_dir = '/data1/fog/fognn/Hamid/FogNetImport/SHAP/'\n",
    "folders = sorted(os.listdir(csv_files_dir))\n",
    "print(folders[30])\n",
    "df2 = pd.read_csv(os.path.join(csv_files_dir, folders[24], 'VIS_Prob_TEST.csv'), index_col= 0)\n",
    "print(df2.shape)\n"
   ]
  },
  {
   "cell_type": "code",
   "execution_count": 51,
   "metadata": {},
   "outputs": [],
   "source": [
    "def calc_mean_prob_df(id1, id2):\n",
    "    csv_files_dir = '/data1/fog/fognn/Hamid/FogNetImport/SHAP/'\n",
    "    folders = sorted(os.listdir(csv_files_dir))\n",
    "    if id1 == 30: \n",
    "        df1 = pd.read_csv(os.path.join(csv_files_dir, folders[id1], 'VIS_Prob_TEST.csv'))\n",
    "        df1 = df1.fillna(0)\n",
    "    else: \n",
    "        df1 = pd.read_csv(os.path.join(csv_files_dir, folders[id1], 'VIS_Prob_TEST.csv'), index_col= 0)\n",
    "        df1 = df1.fillna(0)\n",
    "    \n",
    "    if id2 == 30: \n",
    "        df2 = pd.read_csv(os.path.join(csv_files_dir, folders[id2], 'VIS_Prob_TEST.csv'))\n",
    "        df2 = df2.fillna(0)\n",
    "    else: \n",
    "        df2 = pd.read_csv(os.path.join(csv_files_dir, folders[id2], 'VIS_Prob_TEST.csv'), index_col= 0)\n",
    "        df2 = df2.fillna(0)\n",
    "\n",
    "\n",
    "    #print(f\"{id1} = {df1.iloc[:, 0].shape} | {id2} = {df2.iloc[:, 0].shape}\")\n",
    "    output = (df1.iloc[:, 0] - df2.iloc[:, 0])\n",
    "    output = np.mean(output)\n",
    "    #print(df1.iloc[:, 0], df2.iloc[:, 0])\n",
    "    #print(f\"{id}-{folders[id]}: {df.shape} |{output} \")\n",
    "    return output\n",
    "\n",
    "\n",
    "def SHAP_Scores():    \n",
    "    Weights = [0.2, 0.2, 0.2, 0.2, 0.2, \n",
    "               0.05, 0.05, 0.05, 0.05, 0.05, 0.05, 0.05, 0.05, 0.05, 0.05, \n",
    "               0.0333333,  0.0333333, 0.0333333, 0.0333333, 0.0333333, 0.0333333, 0.0333333, 0.0333333, 0.0333333, 0.0333333, \n",
    "               0.05, 0.05, 0.05, 0.05, 0.05,\n",
    "               0.2] \n",
    "\n",
    "    G1_idx = [0, 5, 6, 7, 8, 15, 16, 17, 18, 19, 20, 25, 26, 27, 28, 30]\n",
    "    G1_weights = [Weights[index] for index in G1_idx]   \n",
    "    G1_Sub = [calc_mean_prob_df(0, 30), \n",
    "                calc_mean_prob_df(5, 1), \n",
    "                calc_mean_prob_df(6, 2), \n",
    "                calc_mean_prob_df(7, 3), \n",
    "                calc_mean_prob_df(8, 4), \n",
    "                calc_mean_prob_df(15, 9),  \n",
    "                calc_mean_prob_df(16, 10), \n",
    "                calc_mean_prob_df(17, 11), \n",
    "                calc_mean_prob_df(18, 12), \n",
    "                calc_mean_prob_df(19, 13), \n",
    "                calc_mean_prob_df(20, 14), \n",
    "                calc_mean_prob_df(25, 21),\n",
    "                calc_mean_prob_df(26, 22), \n",
    "                calc_mean_prob_df(27, 23), \n",
    "                calc_mean_prob_df(28, 24), \n",
    "                calc_mean_prob_df(30, 29)]\n",
    "    G1_score     = sum([a*b for a, b in zip(G1_weights, G1_Sub)])\n",
    "    G1_score_abs = sum([a*abs(b) for a, b in zip(G1_weights, G1_Sub)])\n",
    "    \n",
    "    G2_idx = [1, 5, 9, 10, 11, 15, 16, 17, 21, 22, 23, 25, 26, 27, 29, 30]\n",
    "    G2_weights = [Weights[index] for index in G2_idx]\n",
    "    G2_Sub = [calc_mean_prob_df(1, 30), \n",
    "              calc_mean_prob_df(5, 0), \n",
    "              calc_mean_prob_df(9, 2), \n",
    "              calc_mean_prob_df(10, 3), \n",
    "              calc_mean_prob_df(11, 4), \n",
    "              calc_mean_prob_df(15, 6),  \n",
    "              calc_mean_prob_df(16, 7), \n",
    "              calc_mean_prob_df(17, 8), \n",
    "              calc_mean_prob_df(21, 12), \n",
    "              calc_mean_prob_df(22, 13), \n",
    "              calc_mean_prob_df(23, 14), \n",
    "              calc_mean_prob_df(25, 18),\n",
    "              calc_mean_prob_df(26, 19), \n",
    "              calc_mean_prob_df(27, 20), \n",
    "              calc_mean_prob_df(29, 24), \n",
    "              calc_mean_prob_df(30, 28)]\n",
    "    G2_score     = sum([a*b for a, b in zip(G2_weights, G2_Sub)])\n",
    "    G2_score_abs = sum([a*abs(b) for a, b in zip(G2_weights, G2_Sub)])\n",
    " \n",
    "    G3_idx = [2, 6, 9, 12, 13, 15, 18, 19, 21, 22, 24, 25, 26, 28, 29, 30]\n",
    "    G3_weights = [Weights[index] for index in G3_idx]\n",
    "    G3_Sub = [calc_mean_prob_df(2, 30), \n",
    "              calc_mean_prob_df(6, 0), \n",
    "              calc_mean_prob_df(9, 1), \n",
    "              calc_mean_prob_df(12, 3), \n",
    "              calc_mean_prob_df(13, 4), \n",
    "              calc_mean_prob_df(15, 5),  \n",
    "              calc_mean_prob_df(18, 7), \n",
    "              calc_mean_prob_df(19, 8), \n",
    "              calc_mean_prob_df(21, 10), \n",
    "              calc_mean_prob_df(22, 11), \n",
    "              calc_mean_prob_df(24, 14), \n",
    "              calc_mean_prob_df(25, 16),\n",
    "              calc_mean_prob_df(26, 17), \n",
    "              calc_mean_prob_df(28, 20), \n",
    "              calc_mean_prob_df(29, 23), \n",
    "              calc_mean_prob_df(30, 27)]\n",
    "    G3_score = sum([a*b for a, b in zip(G3_weights, G3_Sub)])\n",
    "    G3_score_abs = sum([a*abs(b) for a, b in zip(G3_weights, G3_Sub)])\n",
    "    \n",
    "    G4_idx = [3, 7, 10, 12, 14, 16, 18, 20, 21, 23, 24, 26, 27, 28, 29, 30]\n",
    "    G4_weights = [Weights[index] for index in G4_idx]\n",
    "    G4_Sub = [calc_mean_prob_df(3, 30), \n",
    "              calc_mean_prob_df(7, 0), \n",
    "              calc_mean_prob_df(10, 1), \n",
    "              calc_mean_prob_df(12, 2), \n",
    "              calc_mean_prob_df(14, 4), \n",
    "              calc_mean_prob_df(16, 5),  \n",
    "              calc_mean_prob_df(18, 6), \n",
    "              calc_mean_prob_df(20, 8), \n",
    "              calc_mean_prob_df(21, 9), \n",
    "              calc_mean_prob_df(23, 11), \n",
    "              calc_mean_prob_df(24, 13), \n",
    "              calc_mean_prob_df(25, 15),\n",
    "              calc_mean_prob_df(27, 17), \n",
    "              calc_mean_prob_df(28, 19), \n",
    "              calc_mean_prob_df(29, 22), \n",
    "              calc_mean_prob_df(30, 26)]\n",
    "\n",
    "    G4_score = sum([a*b for a, b in zip(G4_weights, G4_Sub)])\n",
    "    G4_score_abs = sum([a*abs(b) for a, b in zip(G4_weights, G4_Sub)])\n",
    "\n",
    "    G5_idx     = [4, 8, 11, 13, 14, 17, 19, 20, 22, 23, 24, 26, 27, 28, 29, 30] \n",
    "    G5_weights = [Weights[index] for index in G5_idx]\n",
    "    G5_Sub     = [calc_mean_prob_df(4, 30), \n",
    "                calc_mean_prob_df(8, 0), \n",
    "                calc_mean_prob_df(11, 1), \n",
    "                calc_mean_prob_df(13, 2), \n",
    "                calc_mean_prob_df(14, 3), \n",
    "                calc_mean_prob_df(17, 5),  \n",
    "                calc_mean_prob_df(19, 6), \n",
    "                calc_mean_prob_df(20, 7), \n",
    "                calc_mean_prob_df(22, 9), \n",
    "                calc_mean_prob_df(23, 10), \n",
    "                calc_mean_prob_df(24, 12), \n",
    "                calc_mean_prob_df(26, 15),\n",
    "                calc_mean_prob_df(27, 16), \n",
    "                calc_mean_prob_df(28, 18), \n",
    "                calc_mean_prob_df(29, 21), \n",
    "                calc_mean_prob_df(30, 25)]\n",
    "\n",
    "    G5_score = sum([a*b for a, b in zip(G5_weights, G5_Sub)])\n",
    "    G5_score_abs = sum([a*abs(b) for a, b in zip(G5_weights, G5_Sub)])\n",
    "\n",
    "    scores = [G1_score,  G2_score, G3_score, G4_score, G5_score]\n",
    "    scores_abs = [G1_score_abs,  G2_score_abs, G3_score_abs, G4_score_abs, G5_score_abs]\n",
    "    \n",
    "    return scores, scores_abs"
   ]
  },
  {
   "cell_type": "code",
   "execution_count": 53,
   "metadata": {},
   "outputs": [
    {
     "name": "stdout",
     "output_type": "stream",
     "text": [
      "SHAP Score of G1: 0.0005820333423631726\n",
      "SHAP Score of G2: -0.00015703046559755775\n",
      "SHAP Score of G3: 0.0009107430341464334\n",
      "SHAP Score of G4: 0.0020246283795540016\n",
      "SHAP Score of G5: -0.003360374788908645\n",
      "=====================================\n",
      "SHAP Abs Score of G1: 0.017983443815464406\n",
      "SHAP Abs Score of G2: 0.01797191177626995\n",
      "SHAP Abs Score of G3: 0.01999134425753104\n",
      "SHAP Abs Score of G4: 0.02032175423559222\n",
      "SHAP Abs Score of G5: 0.01891770616936736\n"
     ]
    }
   ],
   "source": [
    "score, score_abs = SHAP_Scores()\n",
    "print(f\"SHAP Score of G1: {score[0]}\")\n",
    "print(f\"SHAP Score of G2: {score[1]}\")\n",
    "print(f\"SHAP Score of G3: {score[2]}\")\n",
    "print(f\"SHAP Score of G4: {score[3]}\")\n",
    "print(f\"SHAP Score of G5: {score[4]}\")\n",
    "print(f\"====================================\")\n",
    "print(f\"SHAP Abs Score of G1: {score_abs[0]}\")\n",
    "print(f\"SHAP Abs Score of G2: {score_abs[1]}\")\n",
    "print(f\"SHAP Abs Score of G3: {score_abs[2]}\")\n",
    "print(f\"SHAP Abs Score of G4: {score_abs[3]}\")\n",
    "print(f\"SHAP Abs Score of G5: {score_abs[4]}\")"
   ]
  },
  {
   "cell_type": "code",
   "execution_count": 31,
   "metadata": {},
   "outputs": [
    {
     "name": "stdout",
     "output_type": "stream",
     "text": [
      "SHAP Score of G1: -0.04745178710947809\n",
      "SHAP Score of G2: -0.045873099200378915\n",
      "SHAP Score of G3: 0.034714893776016255\n",
      "SHAP Score of G4: 0.03041422302646109\n",
      "SHAP Score of G5: 0.028195675482686696\n"
     ]
    }
   ],
   "source": [
    "G1_score, G2_score, G3_score, G4_score, G5_score = SHAP_Scores()\n",
    "print(f\"SHAP Score of G1: {G1_score}\")\n",
    "print(f\"SHAP Score of G2: {G2_score}\")\n",
    "print(f\"SHAP Score of G3: {G3_score}\")\n",
    "print(f\"SHAP Score of G4: {G4_score}\")\n",
    "print(f\"SHAP Score of G5: {G5_score}\")"
   ]
  }
 ],
 "metadata": {
  "kernelspec": {
   "display_name": "Python 3.6.8 64-bit",
   "language": "python",
   "name": "python3"
  },
  "language_info": {
   "codemirror_mode": {
    "name": "ipython",
    "version": 3
   },
   "file_extension": ".py",
   "mimetype": "text/x-python",
   "name": "python",
   "nbconvert_exporter": "python",
   "pygments_lexer": "ipython3",
   "version": "3.6.8 (default, Dec 25 2018, 00:00:00) \n[GCC 4.8.4]"
  },
  "orig_nbformat": 4,
  "vscode": {
   "interpreter": {
    "hash": "31f2aee4e71d21fbe5cf8b01ff0e069b9275f58929596ceb00d14d90e3e16cd6"
   }
  }
 },
 "nbformat": 4,
 "nbformat_minor": 2
}
