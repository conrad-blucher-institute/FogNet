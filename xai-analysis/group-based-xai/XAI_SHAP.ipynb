{
 "cells": [
  {
   "cell_type": "code",
   "execution_count": 2,
   "metadata": {},
   "outputs": [
    {
     "name": "stdout",
     "output_type": "stream",
     "text": [
      "The autoreload extension is already loaded. To reload it, use:\n",
      "  %reload_ext autoreload\n"
     ]
    }
   ],
   "source": [
    "%load_ext autoreload\n",
    "%autoreload 2"
   ]
  },
  {
   "cell_type": "code",
   "execution_count": 5,
   "metadata": {},
   "outputs": [],
   "source": [
    "import warnings\n",
    "warnings.filterwarnings('ignore')"
   ]
  },
  {
   "cell_type": "code",
   "execution_count": 4,
   "metadata": {},
   "outputs": [],
   "source": [
    "import pandas as pd\n",
    "import numpy\n",
    "import os\n",
    "import os.path \n",
    "import matplotlib.pyplot as plt\n",
    "import matplotlib.colors\n",
    "import copy\n",
    "import errno\n",
    "import glob\n",
    "import time\n",
    "import calendar\n",
    "import json\n",
    "import pickle\n",
    "import random\n",
    "import netCDF4\n",
    "from numpy import savez_compressed\n",
    "from optparse import OptionParser\n",
    "from scipy.interpolate import (UnivariateSpline, RectBivariateSpline, RegularGridInterpolator)\n",
    "from sklearn.metrics import confusion_matrix"
   ]
  },
  {
   "cell_type": "code",
   "execution_count": 29,
   "metadata": {},
   "outputs": [],
   "source": [
    "def calc_mean_prob_df(id):\n",
    "    csv_files_dir = '/data1/fog/fognn/Hamid/FogNetImport/SHAP/'\n",
    "    folders = sorted(os.listdir(csv_files_dir))\n",
    "    df = pd.read_csv(os.path.join(csv_files_dir, folders[id], 'VIS_Prob_TEST.csv'), index_col= 0)\n",
    "\n",
    "    output = df.iloc[:, 0].mean()\n",
    "    #print(f\"{id}-{folders[id]}: {df.shape} |{output} \")\n",
    "    return output\n",
    "\n",
    "\n",
    "def SHAP_Scores():    \n",
    "    Weights = [0.2, 0.2, 0.2, 0.2, 0.2, \n",
    "               0.05, 0.05, 0.05, 0.05, 0.05, 0.05, 0.05, 0.05, 0.05, 0.05, \n",
    "               0.0333333,  0.0333333, 0.0333333, 0.0333333, 0.0333333, 0.0333333, 0.0333333, 0.0333333, 0.0333333, 0.0333333, \n",
    "               0.05, 0.05, 0.05, 0.05, 0.05,\n",
    "               0.2] \n",
    "\n",
    "    G1_idx = [0, 5, 6, 7, 8, 15, 16, 17, 18, 19, 20, 25, 26, 27, 28, 30]\n",
    "    G1_weights = [Weights[index] for index in G1_idx]   \n",
    "    G1_Sub = [(calc_mean_prob_df(0)  - calc_mean_prob_df(30)), \n",
    "              (calc_mean_prob_df(5)  - calc_mean_prob_df(1)), \n",
    "              (calc_mean_prob_df(6)  - calc_mean_prob_df(2)), \n",
    "              (calc_mean_prob_df(7)  - calc_mean_prob_df(3)), \n",
    "              (calc_mean_prob_df(8)  - calc_mean_prob_df(4)), \n",
    "              (calc_mean_prob_df(15) - calc_mean_prob_df(9)),  \n",
    "              (calc_mean_prob_df(16) - calc_mean_prob_df(10)), \n",
    "              (calc_mean_prob_df(17) - calc_mean_prob_df(11)), \n",
    "              (calc_mean_prob_df(18) - calc_mean_prob_df(12)), \n",
    "              (calc_mean_prob_df(19) - calc_mean_prob_df(13)), \n",
    "              (calc_mean_prob_df(20) - calc_mean_prob_df(14)), \n",
    "              (calc_mean_prob_df(25) - calc_mean_prob_df(21)),\n",
    "              (calc_mean_prob_df(26) - calc_mean_prob_df(22)), \n",
    "              (calc_mean_prob_df(27) - calc_mean_prob_df(23)), \n",
    "              (calc_mean_prob_df(28) - calc_mean_prob_df(24)), \n",
    "              (calc_mean_prob_df(30) - calc_mean_prob_df(29))]\n",
    "    G1_score = sum([a*b for a, b in zip(G1_weights, G1_Sub)])\n",
    "    \n",
    "    G2_idx = [1, 5, 9, 10, 11, 15, 16, 17, 21, 22, 23, 25, 26, 27, 29, 30]\n",
    "    G2_weights = [Weights[index] for index in G2_idx]\n",
    "    G2_Sub = [(calc_mean_prob_df(1)  - calc_mean_prob_df(30)), \n",
    "              (calc_mean_prob_df(5)  - calc_mean_prob_df(0)), \n",
    "              (calc_mean_prob_df(9)  - calc_mean_prob_df(2)), \n",
    "              (calc_mean_prob_df(10) - calc_mean_prob_df(3)), \n",
    "              (calc_mean_prob_df(11) - calc_mean_prob_df(4)), \n",
    "              (calc_mean_prob_df(15) - calc_mean_prob_df(6)),  \n",
    "              (calc_mean_prob_df(16) - calc_mean_prob_df(7)), \n",
    "              (calc_mean_prob_df(17) - calc_mean_prob_df(8)), \n",
    "              (calc_mean_prob_df(21) - calc_mean_prob_df(12)), \n",
    "              (calc_mean_prob_df(22) - calc_mean_prob_df(13)), \n",
    "              (calc_mean_prob_df(23) - calc_mean_prob_df(14)), \n",
    "              (calc_mean_prob_df(25) - calc_mean_prob_df(18)),\n",
    "              (calc_mean_prob_df(26) - calc_mean_prob_df(19)), \n",
    "              (calc_mean_prob_df(27) - calc_mean_prob_df(20)), \n",
    "              (calc_mean_prob_df(29) - calc_mean_prob_df(24)), \n",
    "              (calc_mean_prob_df(30) - calc_mean_prob_df(28))]\n",
    "    G2_score = sum([a*b for a, b in zip(G2_weights, G2_Sub)])\n",
    " \n",
    "    G3_idx = [2, 6, 9, 12, 13, 15, 18, 19, 21, 22, 24, 25, 26, 28, 29, 30]\n",
    "    G3_weights = [Weights[index] for index in G3_idx]\n",
    "    G3_Sub = [(calc_mean_prob_df(2)  - calc_mean_prob_df(30)), \n",
    "              (calc_mean_prob_df(6)  - calc_mean_prob_df(0)), \n",
    "              (calc_mean_prob_df(9)  - calc_mean_prob_df(1)), \n",
    "              (calc_mean_prob_df(12) - calc_mean_prob_df(3)), \n",
    "              (calc_mean_prob_df(13) - calc_mean_prob_df(4)), \n",
    "              (calc_mean_prob_df(15) - calc_mean_prob_df(5)),  \n",
    "              (calc_mean_prob_df(18) - calc_mean_prob_df(7)), \n",
    "              (calc_mean_prob_df(19) - calc_mean_prob_df(8)), \n",
    "              (calc_mean_prob_df(21) - calc_mean_prob_df(10)), \n",
    "              (calc_mean_prob_df(22) - calc_mean_prob_df(11)), \n",
    "              (calc_mean_prob_df(24) - calc_mean_prob_df(14)), \n",
    "              (calc_mean_prob_df(25) - calc_mean_prob_df(16)),\n",
    "              (calc_mean_prob_df(26) - calc_mean_prob_df(17)), \n",
    "              (calc_mean_prob_df(28) - calc_mean_prob_df(20)), \n",
    "              (calc_mean_prob_df(29) - calc_mean_prob_df(23)), \n",
    "              (calc_mean_prob_df(30) - calc_mean_prob_df(27))]\n",
    "    G3_score = sum([a*b for a, b in zip(G3_weights, G3_Sub)])\n",
    "    \n",
    "    G4_idx = [3, 7, 10, 12, 14, 16, 18, 20, 21, 23, 24, 26, 27, 28, 29, 30]\n",
    "    G4_weights = [Weights[index] for index in G4_idx]\n",
    "    G4_Sub = [(calc_mean_prob_df(3)  - calc_mean_prob_df(30)), \n",
    "              (calc_mean_prob_df(7)  - calc_mean_prob_df(0)), \n",
    "              (calc_mean_prob_df(10) - calc_mean_prob_df(1)), \n",
    "              (calc_mean_prob_df(12) - calc_mean_prob_df(2)), \n",
    "              (calc_mean_prob_df(14) - calc_mean_prob_df(4)), \n",
    "              (calc_mean_prob_df(16) - calc_mean_prob_df(5)),  \n",
    "              (calc_mean_prob_df(18) - calc_mean_prob_df(6)), \n",
    "              (calc_mean_prob_df(20) - calc_mean_prob_df(8)), \n",
    "              (calc_mean_prob_df(21) - calc_mean_prob_df(9)), \n",
    "              (calc_mean_prob_df(23) - calc_mean_prob_df(11)), \n",
    "              (calc_mean_prob_df(24) - calc_mean_prob_df(13)), \n",
    "              (calc_mean_prob_df(25) - calc_mean_prob_df(15)),\n",
    "              (calc_mean_prob_df(27) - calc_mean_prob_df(17)), \n",
    "              (calc_mean_prob_df(28) - calc_mean_prob_df(19)), \n",
    "              (calc_mean_prob_df(29) - calc_mean_prob_df(22)), \n",
    "              (calc_mean_prob_df(30) - calc_mean_prob_df(26))]\n",
    "\n",
    "    G4_score = sum([a*b for a, b in zip(G4_weights, G4_Sub)])\n",
    "\n",
    "    G5_idx     = [4, 8, 11, 13, 14, 17, 19, 20, 22, 23, 24, 26, 27, 28, 29, 30] \n",
    "    G5_weights = [Weights[index] for index in G5_idx]\n",
    "    G5_Sub     = [(calc_mean_prob_df(4)  - calc_mean_prob_df(30)), \n",
    "                (calc_mean_prob_df(8)  - calc_mean_prob_df(0)), \n",
    "                (calc_mean_prob_df(11) - calc_mean_prob_df(1)), \n",
    "                (calc_mean_prob_df(13) - calc_mean_prob_df(2)), \n",
    "                (calc_mean_prob_df(14) - calc_mean_prob_df(3)), \n",
    "                (calc_mean_prob_df(17) - calc_mean_prob_df(5)),  \n",
    "                (calc_mean_prob_df(19) - calc_mean_prob_df(6)), \n",
    "                (calc_mean_prob_df(20) - calc_mean_prob_df(7)), \n",
    "                (calc_mean_prob_df(22) - calc_mean_prob_df(9)), \n",
    "                (calc_mean_prob_df(23) - calc_mean_prob_df(10)), \n",
    "                (calc_mean_prob_df(24) - calc_mean_prob_df(12)), \n",
    "                (calc_mean_prob_df(26) - calc_mean_prob_df(15)),\n",
    "                (calc_mean_prob_df(27) - calc_mean_prob_df(16)), \n",
    "                (calc_mean_prob_df(28) - calc_mean_prob_df(18)), \n",
    "                (calc_mean_prob_df(29) - calc_mean_prob_df(21)), \n",
    "                (calc_mean_prob_df(30) - calc_mean_prob_df(25))]\n",
    "\n",
    "    G5_score = sum([a*b for a, b in zip(G5_weights, G5_Sub)])\n",
    "    \n",
    "    return G1_score, G2_score, G3_score, G4_score, G5_score"
   ]
  },
  {
   "cell_type": "code",
   "execution_count": 31,
   "metadata": {},
   "outputs": [
    {
     "name": "stdout",
     "output_type": "stream",
     "text": [
      "SHAP Score of G1: -0.04745178710947809\n",
      "SHAP Score of G2: -0.045873099200378915\n",
      "SHAP Score of G3: 0.034714893776016255\n",
      "SHAP Score of G4: 0.03041422302646109\n",
      "SHAP Score of G5: 0.028195675482686696\n"
     ]
    }
   ],
   "source": [
    "G1_score, G2_score, G3_score, G4_score, G5_score = SHAP_Scores()\n",
    "print(f\"SHAP Score of G1: {G1_score}\")\n",
    "print(f\"SHAP Score of G2: {G2_score}\")\n",
    "print(f\"SHAP Score of G3: {G3_score}\")\n",
    "print(f\"SHAP Score of G4: {G4_score}\")\n",
    "print(f\"SHAP Score of G5: {G5_score}\")"
   ]
  }
 ],
 "metadata": {
  "kernelspec": {
   "display_name": "Python 3.6.8 64-bit",
   "language": "python",
   "name": "python3"
  },
  "language_info": {
   "codemirror_mode": {
    "name": "ipython",
    "version": 3
   },
   "file_extension": ".py",
   "mimetype": "text/x-python",
   "name": "python",
   "nbconvert_exporter": "python",
   "pygments_lexer": "ipython3",
   "version": "3.6.8"
  },
  "orig_nbformat": 4,
  "vscode": {
   "interpreter": {
    "hash": "31f2aee4e71d21fbe5cf8b01ff0e069b9275f58929596ceb00d14d90e3e16cd6"
   }
  }
 },
 "nbformat": 4,
 "nbformat_minor": 2
}
