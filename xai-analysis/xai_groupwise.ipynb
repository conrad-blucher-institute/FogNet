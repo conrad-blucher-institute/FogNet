{
 "cells": [
  {
   "cell_type": "code",
   "execution_count": 1,
   "metadata": {},
   "outputs": [],
   "source": [
    "%load_ext autoreload\n",
    "%autoreload 2"
   ]
  },
  {
   "cell_type": "code",
   "execution_count": 2,
   "metadata": {},
   "outputs": [],
   "source": [
    "import pandas as pd\n",
    "import numpy\n",
    "import os\n",
    "import os.path \n",
    "import matplotlib.pyplot as plt\n",
    "import matplotlib.colors\n",
    "import copy\n",
    "import errno\n",
    "import glob\n",
    "import time\n",
    "import calendar\n",
    "import json\n",
    "import pickle\n",
    "import random\n",
    "import netCDF4\n",
    "from numpy import savez_compressed\n",
    "from optparse import OptionParser\n",
    "from scipy.interpolate import (UnivariateSpline, RectBivariateSpline, RegularGridInterpolator)\n",
    "from sklearn.metrics import confusion_matrix"
   ]
  },
  {
   "cell_type": "code",
   "execution_count": 5,
   "metadata": {},
   "outputs": [],
   "source": [
    "import sys\n",
    "sys.path.append('../')\n",
    "from src import utils, FogNet, FogNetConfig, cnn_evaluate, models, xai_engine"
   ]
  },
  {
   "cell_type": "code",
   "execution_count": 6,
   "metadata": {},
   "outputs": [],
   "source": [
    "import warnings\n",
    "warnings.filterwarnings('ignore')"
   ]
  },
  {
   "cell_type": "markdown",
   "metadata": {},
   "source": [
    "## FogNet (24 Hr. 1600m) based on PSS, HSS, and CSS: "
   ]
  },
  {
   "cell_type": "code",
   "execution_count": 7,
   "metadata": {},
   "outputs": [],
   "source": [
    "Training_targets  = pd.read_csv(os.path.join('../trained_model/VIS_True_TRAIN.csv'))\n",
    "Training_targets  = Training_targets[['CAT1600']].to_numpy().ravel()\n",
    "Testing_targets      = pd.read_csv(os.path.join('../trained_model/VIS_True_TEST.csv'))\n",
    "Testing_targets      = Testing_targets[['CAT1600']].to_numpy().ravel()"
   ]
  },
  {
   "cell_type": "code",
   "execution_count": 8,
   "metadata": {},
   "outputs": [],
   "source": [
    "fognet_training_cat_prob  = pd.read_csv(os.path.join('../trained_model/VIS_Prob_TRAIN.csv'))\n",
    "fognet_training_cat_prob  = fognet_training_cat_prob[['C0_Prob', 'C1_Prob']].to_numpy()\n",
    "fognet_test_cat_prob      = pd.read_csv(os.path.join('../trained_model/VIS_Prob_TEST.csv'))\n",
    "fognet_test_cat_prob      = fognet_test_cat_prob[['C0_Prob', 'C1_Prob']].to_numpy()"
   ]
  },
  {
   "cell_type": "code",
   "execution_count": 14,
   "metadata": {},
   "outputs": [],
   "source": [
    "hss_training_threshold, hss_accuray_list, hss_Res241600  = cnn_evaluate.skilled_metrics(Training_targets, fognet_training_cat_prob, 'HSS')\n",
    "hss_testing_accuracy                      = cnn_evaluate.test_eval(Testing_targets, fognet_test_cat_prob, hss_training_threshold)\n",
    "pss_training_threshold, pss_accuray_list, pss_Res241600  = cnn_evaluate.skilled_metrics(Training_targets, fognet_training_cat_prob, 'PSS')\n",
    "pss_testing_accuracy                      = cnn_evaluate.test_eval(Testing_targets, fognet_test_cat_prob, pss_training_threshold)\n",
    "css_training_threshold, css_accuray_list, css_Res241600  = cnn_evaluate.skilled_metrics(Training_targets, fognet_training_cat_prob, 'CSS')\n",
    "css_testing_accuracy                      = cnn_evaluate.test_eval(Testing_targets, fognet_test_cat_prob, css_training_threshold)"
   ]
  },
  {
   "cell_type": "code",
   "execution_count": 15,
   "metadata": {},
   "outputs": [
    {
     "name": "stdout",
     "output_type": "stream",
     "text": [
      "------  HSS  ------  PSS  ------  CSS\n",
      "POD:   0.55         0.58         0.28\n",
      "F:     0.02         0.03         0.00\n",
      "FAR:   0.49         0.61         0.32\n",
      "CSI:   0.36         0.31         0.25\n",
      "PSS:   0.54         0.55         0.28\n",
      "HSS:   0.52         0.45         0.39\n",
      "ORSS:  0.97         0.96         0.98\n",
      "CSS:   0.50         0.38         0.66\n"
     ]
    }
   ],
   "source": [
    "print(f\"------  HSS  ------  PSS  ------  CSS\")\n",
    "print(f\"POD:   {hss_testing_accuracy[4]:.2f}         {pss_testing_accuracy[4]:.2f}         {css_testing_accuracy[4]:.2f}\")\n",
    "print(f\"F:     {hss_testing_accuracy[5]:.2f}         {pss_testing_accuracy[5]:.2f}         {css_testing_accuracy[5]:.2f}\")\n",
    "print(f\"FAR:   {hss_testing_accuracy[6]:.2f}         {pss_testing_accuracy[6]:.2f}         {css_testing_accuracy[6]:.2f}\")\n",
    "print(f\"CSI:   {hss_testing_accuracy[7]:.2f}         {pss_testing_accuracy[7]:.2f}         {css_testing_accuracy[7]:.2f}\")\n",
    "print(f\"PSS:   {hss_testing_accuracy[8]:.2f}         {pss_testing_accuracy[8]:.2f}         {css_testing_accuracy[8]:.2f}\")\n",
    "print(f\"HSS:   {hss_testing_accuracy[9]:.2f}         {pss_testing_accuracy[9]:.2f}         {css_testing_accuracy[9]:.2f}\")\n",
    "print(f\"ORSS:  {hss_testing_accuracy[10]:.2f}         {pss_testing_accuracy[10]:.2f}         {css_testing_accuracy[10]:.2f}\")\n",
    "print(f\"CSS:   {hss_testing_accuracy[11]:.2f}         {pss_testing_accuracy[11]:.2f}         {css_testing_accuracy[11]:.2f}\")"
   ]
  },
  {
   "cell_type": "markdown",
   "metadata": {},
   "source": [
    "### Permutation "
   ]
  },
  {
   "cell_type": "code",
   "execution_count": 23,
   "metadata": {},
   "outputs": [
    {
     "name": "stdout",
     "output_type": "stream",
     "text": [
      "Permutation HSS based results:\n",
      "------  Score\n",
      "G1:    1.46\n",
      "G2:    -0.14\n",
      "G3:    0.67\n",
      "G4:    -0.98\n",
      "G5:    2.23\n"
     ]
    }
   ],
   "source": [
    "pfi_df = pd.read_csv('./PFIGW.csv')\n",
    "permut_hss_results = pfi_df['HSS_Mean']\n",
    "\n",
    "    \n",
    "permutation_hss_results = [(0.52 - permut_hss_results[i]) for i in range(5)]\n",
    "print(\"Permutation HSS based results:\")\n",
    "print(\"------  Score\")\n",
    "print(f\"G1:    {permutation_hss_results[0] * 100:.2f}\")\n",
    "print(f\"G2:    {permutation_hss_results[1] * 100:.2f}\")\n",
    "print(f\"G3:    {permutation_hss_results[2] * 100:.2f}\")\n",
    "print(f\"G4:    {permutation_hss_results[3] * 100:.2f}\")\n",
    "print(f\"G5:    {permutation_hss_results[4] * 100:.2f}\")"
   ]
  },
  {
   "cell_type": "markdown",
   "metadata": {},
   "source": [
    "### Group Hold Hout"
   ]
  },
  {
   "cell_type": "code",
   "execution_count": 43,
   "metadata": {},
   "outputs": [
    {
     "name": "stdout",
     "output_type": "stream",
     "text": [
      "OneGHoldout HSS based results:\n",
      "------ Score\n",
      "G1:    19.96\n",
      "G2:    17.51\n",
      "G3:    48.76\n",
      "G4:    22.06\n",
      "G5:    27.34\n"
     ]
    }
   ],
   "source": [
    "onehout_dir = '../trained_model/xai_trained_models/onehout/'\n",
    "onehout_folder_list = sorted(os.listdir(onehout_dir))\n",
    "\n",
    "onehout_hss_results = []\n",
    "\n",
    "for i in range(1, len(onehout_folder_list)):\n",
    "    y_training_cat_prob  = pd.read_csv(os.path.join(onehout_dir + onehout_folder_list[i] + '/VIS_Prob_TRAIN.csv'))\n",
    "    y_training_cat_prob  = y_training_cat_prob[['C0_Prob', 'C1_Prob']].to_numpy()\n",
    "    y_test_cat_prob      = pd.read_csv(os.path.join(onehout_dir + onehout_folder_list[i] + '/VIS_Prob_TEST.csv'))\n",
    "    y_test_cat_prob      = y_test_cat_prob[['C0_Prob', 'C1_Prob']].to_numpy()\n",
    "    \n",
    "    \n",
    "    training_threshold, accuray_list, Res   = cnn_evaluate.skilled_metrics(Training_targets, y_training_cat_prob, 'PSS')\n",
    "    testing_accuracy =  cnn_evaluate.test_eval(Testing_targets, y_test_cat_prob, training_threshold)\n",
    "    onehout_hss_results.append(testing_accuracy) \n",
    "onegout_hss_results = [(0.554324628592346 - onehout_hss_results[i][8]) for i in range(5)]\n",
    "print(\"OneGHoldout HSS based results:\")\n",
    "print(\"------ Score\")\n",
    "print(f\"G1:    {onegout_hss_results[0] * 100:.2f}\")\n",
    "print(f\"G2:    {onegout_hss_results[1] * 100:.2f}\")\n",
    "print(f\"G3:    {onegout_hss_results[2] * 100:.2f}\")\n",
    "print(f\"G4:    {onegout_hss_results[3] * 100:.2f}\")\n",
    "print(f\"G5:    {onegout_hss_results[4] * 100:.2f}\")"
   ]
  },
  {
   "cell_type": "markdown",
   "metadata": {},
   "source": [
    "### LossSHAP"
   ]
  },
  {
   "cell_type": "code",
   "execution_count": 103,
   "metadata": {},
   "outputs": [],
   "source": [
    "def LossSHAP_Scores(df, hss):\n",
    "    \n",
    "    Weights = [0.2, 0.2, 0.2, 0.2, 0.2, \n",
    "               0.05, 0.05, 0.05, 0.05, 0.05, 0.05, 0.05, 0.05, 0.05, 0.05, \n",
    "               0.0333333,  0.0333333, 0.0333333, 0.0333333, 0.0333333, 0.0333333, 0.0333333, 0.0333333, 0.0333333, 0.0333333, \n",
    "               0.05, 0.05, 0.05, 0.05, 0.05,\n",
    "               0.2] \n",
    "\n",
    "    G1_idx = [0, 5, 6, 7, 8, 15, 16, 17, 18, 19, 20, 25, 26, 27, 28, 30]\n",
    "    G1_weights = [Weights[index] for index in G1_idx]   \n",
    "    G1_Sub = [(df.iloc[0]['HSS_Mean'] - hss), \n",
    "              (df.iloc[5]['HSS_Mean'] - df.iloc[1]['HSS_Mean']), \n",
    "              (df.iloc[6]['HSS_Mean'] - df.iloc[2]['HSS_Mean']), \n",
    "              (df.iloc[7]['HSS_Mean'] - df.iloc[3]['HSS_Mean']), \n",
    "              (df.iloc[8]['HSS_Mean'] - df.iloc[4]['HSS_Mean']), \n",
    "              (df.iloc[15]['HSS_Mean'] - df.iloc[9]['HSS_Mean']),  \n",
    "              (df.iloc[16]['HSS_Mean'] - df.iloc[10]['HSS_Mean']), \n",
    "              (df.iloc[17]['HSS_Mean'] - df.iloc[11]['HSS_Mean']), \n",
    "              (df.iloc[18]['HSS_Mean'] - df.iloc[12]['HSS_Mean']), \n",
    "              (df.iloc[19]['HSS_Mean'] - df.iloc[13]['HSS_Mean']), \n",
    "              (df.iloc[20]['HSS_Mean'] - df.iloc[14]['HSS_Mean']), \n",
    "              (df.iloc[25]['HSS_Mean'] - df.iloc[21]['HSS_Mean']),\n",
    "              (df.iloc[26]['HSS_Mean'] - df.iloc[22]['HSS_Mean']), \n",
    "              (df.iloc[27]['HSS_Mean'] - df.iloc[23]['HSS_Mean']), \n",
    "              (df.iloc[28]['HSS_Mean'] - df.iloc[24]['HSS_Mean']), \n",
    "              (hss - df.iloc[29]['HSS_Mean'])]\n",
    "    G1_score = sum([a*b for a, b in zip(G1_weights, G1_Sub)])\n",
    "    \n",
    "    G2_idx = [1, 5, 9, 10, 11, 15, 16, 17, 21, 22, 23, 25, 26, 27, 29, 30]\n",
    "    G2_weights = [Weights[index] for index in G2_idx]\n",
    "    G2_Sub = [(df.iloc[1]['HSS_Mean'] - hss), \n",
    "              (df.iloc[5]['HSS_Mean'] - df.iloc[0]['HSS_Mean']), \n",
    "              (df.iloc[9]['HSS_Mean'] - df.iloc[2]['HSS_Mean']), \n",
    "              (df.iloc[10]['HSS_Mean'] - df.iloc[3]['HSS_Mean']), \n",
    "              (df.iloc[11]['HSS_Mean'] - df.iloc[4]['HSS_Mean']), \n",
    "              (df.iloc[15]['HSS_Mean'] - df.iloc[6]['HSS_Mean']),  \n",
    "              (df.iloc[16]['HSS_Mean'] - df.iloc[7]['HSS_Mean']), \n",
    "              (df.iloc[17]['HSS_Mean'] - df.iloc[8]['HSS_Mean']), \n",
    "              (df.iloc[21]['HSS_Mean'] - df.iloc[12]['HSS_Mean']), \n",
    "              (df.iloc[22]['HSS_Mean'] - df.iloc[13]['HSS_Mean']), \n",
    "              (df.iloc[23]['HSS_Mean'] - df.iloc[14]['HSS_Mean']), \n",
    "              (df.iloc[25]['HSS_Mean'] - df.iloc[18]['HSS_Mean']),\n",
    "              (df.iloc[26]['HSS_Mean'] - df.iloc[19]['HSS_Mean']), \n",
    "              (df.iloc[27]['HSS_Mean'] - df.iloc[20]['HSS_Mean']), \n",
    "              (df.iloc[29]['HSS_Mean'] - df.iloc[24]['HSS_Mean']), \n",
    "              (hss - df.iloc[28]['HSS_Mean'])]\n",
    "    G2_score = sum([a*b for a, b in zip(G2_weights, G2_Sub)])\n",
    " \n",
    "    G3_idx = [2, 6, 9, 12, 13, 15, 18, 19, 21, 22, 24, 25, 26, 28, 29, 30]\n",
    "    G3_weights = [Weights[index] for index in G3_idx]\n",
    "    G3_Sub = [(df.iloc[2]['HSS_Mean'] - hss), \n",
    "              (df.iloc[6]['HSS_Mean'] - df.iloc[0]['HSS_Mean']), \n",
    "              (df.iloc[9]['HSS_Mean'] - df.iloc[1]['HSS_Mean']), \n",
    "              (df.iloc[12]['HSS_Mean'] - df.iloc[3]['HSS_Mean']), \n",
    "              (df.iloc[13]['HSS_Mean'] - df.iloc[4]['HSS_Mean']), \n",
    "              (df.iloc[15]['HSS_Mean'] - df.iloc[5]['HSS_Mean']),  \n",
    "              (df.iloc[18]['HSS_Mean'] - df.iloc[7]['HSS_Mean']), \n",
    "              (df.iloc[19]['HSS_Mean'] - df.iloc[8]['HSS_Mean']), \n",
    "              (df.iloc[21]['HSS_Mean'] - df.iloc[10]['HSS_Mean']), \n",
    "              (df.iloc[22]['HSS_Mean'] - df.iloc[11]['HSS_Mean']), \n",
    "              (df.iloc[24]['HSS_Mean'] - df.iloc[14]['HSS_Mean']), \n",
    "              (df.iloc[25]['HSS_Mean'] - df.iloc[16]['HSS_Mean']),\n",
    "              (df.iloc[26]['HSS_Mean'] - df.iloc[17]['HSS_Mean']), \n",
    "              (df.iloc[28]['HSS_Mean'] - df.iloc[20]['HSS_Mean']), \n",
    "              (df.iloc[29]['HSS_Mean'] - df.iloc[23]['HSS_Mean']), \n",
    "              (hss - df.iloc[27]['HSS_Mean'])]\n",
    "    G3_score = sum([a*b for a, b in zip(G3_weights, G3_Sub)])\n",
    "\n",
    "    G4_idx = [3, 7, 10, 12, 14, 16, 18, 20, 21, 23, 24, 26, 27, 28, 29, 30]\n",
    "    G4_weights = [Weights[index] for index in G4_idx]\n",
    "    G4_Sub = [(df.iloc[3]['HSS_Mean'] - hss), \n",
    "              (df.iloc[7]['HSS_Mean'] - df.iloc[0]['HSS_Mean']), \n",
    "              (df.iloc[10]['HSS_Mean'] - df.iloc[1]['HSS_Mean']), \n",
    "              (df.iloc[12]['HSS_Mean'] - df.iloc[2]['HSS_Mean']), \n",
    "              (df.iloc[14]['HSS_Mean'] - df.iloc[4]['HSS_Mean']), \n",
    "              (df.iloc[16]['HSS_Mean'] - df.iloc[5]['HSS_Mean']),  \n",
    "              (df.iloc[18]['HSS_Mean'] - df.iloc[6]['HSS_Mean']), \n",
    "              (df.iloc[20]['HSS_Mean'] - df.iloc[8]['HSS_Mean']), \n",
    "              (df.iloc[21]['HSS_Mean'] - df.iloc[9]['HSS_Mean']), \n",
    "              (df.iloc[23]['HSS_Mean'] - df.iloc[11]['HSS_Mean']), \n",
    "              (df.iloc[24]['HSS_Mean'] - df.iloc[13]['HSS_Mean']), \n",
    "              (df.iloc[25]['HSS_Mean'] - df.iloc[15]['HSS_Mean']),\n",
    "              (df.iloc[27]['HSS_Mean'] - df.iloc[17]['HSS_Mean']), \n",
    "              (df.iloc[28]['HSS_Mean'] - df.iloc[19]['HSS_Mean']), \n",
    "              (df.iloc[29]['HSS_Mean'] - df.iloc[22]['HSS_Mean']), \n",
    "              (hss - df.iloc[26]['HSS_Mean'])]\n",
    "    G4_score = sum([a*b for a, b in zip(G4_weights, G4_Sub)])\n",
    "\n",
    "    G5_idx     = [4, 8, 11, 13, 14, 17, 19, 20, 22, 23, 24, 26, 27, 28, 29, 30] \n",
    "    G5_weights = [Weights[index] for index in G5_idx]\n",
    "    G5_Sub = [(df.iloc[4]['HSS_Mean'] - hss), \n",
    "              (df.iloc[8]['HSS_Mean'] - df.iloc[0]['HSS_Mean']), \n",
    "              (df.iloc[11]['HSS_Mean'] - df.iloc[1]['HSS_Mean']), \n",
    "              (df.iloc[13]['HSS_Mean'] - df.iloc[2]['HSS_Mean']), \n",
    "              (df.iloc[14]['HSS_Mean'] - df.iloc[3]['HSS_Mean']), \n",
    "              (df.iloc[17]['HSS_Mean'] - df.iloc[5]['HSS_Mean']),  \n",
    "              (df.iloc[19]['HSS_Mean'] - df.iloc[6]['HSS_Mean']), \n",
    "              (df.iloc[20]['HSS_Mean'] - df.iloc[7]['HSS_Mean']), \n",
    "              (df.iloc[22]['HSS_Mean'] - df.iloc[9]['HSS_Mean']), \n",
    "              (df.iloc[23]['HSS_Mean'] - df.iloc[10]['HSS_Mean']), \n",
    "              (df.iloc[24]['HSS_Mean'] - df.iloc[12]['HSS_Mean']), \n",
    "              (df.iloc[26]['HSS_Mean'] - df.iloc[15]['HSS_Mean']),\n",
    "              (df.iloc[27]['HSS_Mean'] - df.iloc[16]['HSS_Mean']), \n",
    "              (df.iloc[28]['HSS_Mean'] - df.iloc[18]['HSS_Mean']), \n",
    "              (df.iloc[29]['HSS_Mean'] - df.iloc[21]['HSS_Mean']), \n",
    "              (hss - df.iloc[25]['HSS_Mean'])]\n",
    "\n",
    "    G5_score = sum([a*b for a, b in zip(G5_weights, G5_Sub)])\n",
    "    \n",
    "    \n",
    "    return G1_score, G2_score, G3_score, G4_score, G5_score"
   ]
  },
  {
   "cell_type": "code",
   "execution_count": 104,
   "metadata": {},
   "outputs": [],
   "source": [
    "LossSHAP_df = pd.read_csv('./LossSHAP.csv')\n",
    "\n",
    "G1_score, G2_score, G3_score, G4_score, G5_score = LossSHAP_Scores(LossSHAP_df, 0.52)"
   ]
  },
  {
   "cell_type": "code",
   "execution_count": 105,
   "metadata": {},
   "outputs": [
    {
     "name": "stdout",
     "output_type": "stream",
     "text": [
      "LossSHAP HSS based results:\n",
      "------ Score\n",
      "G1:    -9.39\n",
      "G2:    -4.19\n",
      "G3:    -6.33\n",
      "G4:    14.16\n",
      "G5:    5.75\n"
     ]
    }
   ],
   "source": [
    "print(\"LossSHAP HSS based results:\")\n",
    "print(\"------ Score\")\n",
    "print(f\"G1:    {G1_score * 100:.2f}\")\n",
    "print(f\"G2:    {G2_score * 100:.2f}\")\n",
    "print(f\"G3:    {G3_score * 100:.2f}\")\n",
    "print(f\"G4:    {G4_score * 100:.2f}\")\n",
    "print(f\"G5:    {G5_score * 100:.2f}\")"
   ]
  },
  {
   "cell_type": "code",
   "execution_count": null,
   "metadata": {},
   "outputs": [],
   "source": []
  }
 ],
 "metadata": {
  "kernelspec": {
   "display_name": "Python 3",
   "language": "python",
   "name": "python3"
  },
  "language_info": {
   "codemirror_mode": {
    "name": "ipython",
    "version": 3
   },
   "file_extension": ".py",
   "mimetype": "text/x-python",
   "name": "python",
   "nbconvert_exporter": "python",
   "pygments_lexer": "ipython3",
   "version": "3.9.12"
  }
 },
 "nbformat": 4,
 "nbformat_minor": 4
}
